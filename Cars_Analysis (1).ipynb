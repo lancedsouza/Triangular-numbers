{
 "cells": [
  {
   "cell_type": "code",
   "execution_count": 3,
   "id": "64e63b28",
   "metadata": {},
   "outputs": [],
   "source": [
    "import pandas as pd \n",
    "import numpy as np\n",
    "import matplotlib.pyplot as plt\n",
    "%matplotlib inline\n",
    "import os\n",
    "import seaborn as sns"
   ]
  },
  {
   "cell_type": "code",
   "execution_count": 4,
   "id": "21e18935",
   "metadata": {},
   "outputs": [
    {
     "name": "stdout",
     "output_type": "stream",
     "text": [
      "C:\\Users\\lance\n"
     ]
    }
   ],
   "source": [
    "print(os.getcwd())"
   ]
  },
  {
   "cell_type": "code",
   "execution_count": 5,
   "id": "ec9dbc31",
   "metadata": {},
   "outputs": [],
   "source": [
    "os.chdir('C:\\\\Users\\\\lance\\\\OneDrive\\\\Desktop\\\\Feynn Labs')"
   ]
  },
  {
   "cell_type": "code",
   "execution_count": 6,
   "id": "53c44c9d",
   "metadata": {},
   "outputs": [],
   "source": [
    "df=pd.read_csv('cars_ds_final_2021.csv')"
   ]
  },
  {
   "cell_type": "code",
   "execution_count": 7,
   "id": "45972832",
   "metadata": {},
   "outputs": [
    {
     "data": {
      "text/html": [
       "<div><div id=dd20df91-2bd7-4400-af7f-bfe1eedad397 style=\"display:none; background-color:#9D6CFF; color:white; width:200px; height:30px; padding-left:5px; border-radius:4px; flex-direction:row; justify-content:space-around; align-items:center;\" onmouseover=\"this.style.backgroundColor='#BA9BF8'\" onmouseout=\"this.style.backgroundColor='#9D6CFF'\" onclick=\"window.commands?.execute('create-mitosheet-from-dataframe-output');\">See Full Dataframe in Mito</div> <script> if (window.commands?.hasCommand('create-mitosheet-from-dataframe-output')) document.getElementById('dd20df91-2bd7-4400-af7f-bfe1eedad397').style.display = 'flex' </script> <table border=\"1\" class=\"dataframe\">\n",
       "  <thead>\n",
       "    <tr style=\"text-align: right;\">\n",
       "      <th></th>\n",
       "      <th>Unnamed: 0</th>\n",
       "      <th>Make</th>\n",
       "      <th>Model</th>\n",
       "      <th>Variant</th>\n",
       "      <th>Ex-Showroom_Price</th>\n",
       "      <th>Displacement</th>\n",
       "      <th>Cylinders</th>\n",
       "      <th>Valves_Per_Cylinder</th>\n",
       "      <th>Drivetrain</th>\n",
       "      <th>Cylinder_Configuration</th>\n",
       "      <th>...</th>\n",
       "      <th>Leather_Wrapped_Steering</th>\n",
       "      <th>Automatic_Headlamps</th>\n",
       "      <th>Engine_Type</th>\n",
       "      <th>ASR_/_Traction_Control</th>\n",
       "      <th>Cruise_Control</th>\n",
       "      <th>USB_Ports</th>\n",
       "      <th>Heads-Up_Display</th>\n",
       "      <th>Welcome_Lights</th>\n",
       "      <th>Battery</th>\n",
       "      <th>Electric_Range</th>\n",
       "    </tr>\n",
       "  </thead>\n",
       "  <tbody>\n",
       "    <tr>\n",
       "      <th>0</th>\n",
       "      <td>0</td>\n",
       "      <td>Tata</td>\n",
       "      <td>Nano Genx</td>\n",
       "      <td>Xt</td>\n",
       "      <td>Rs. 2,92,667</td>\n",
       "      <td>624 cc</td>\n",
       "      <td>2.0</td>\n",
       "      <td>2.0</td>\n",
       "      <td>RWD (Rear Wheel Drive)</td>\n",
       "      <td>In-line</td>\n",
       "      <td>...</td>\n",
       "      <td>NaN</td>\n",
       "      <td>NaN</td>\n",
       "      <td>NaN</td>\n",
       "      <td>NaN</td>\n",
       "      <td>NaN</td>\n",
       "      <td>NaN</td>\n",
       "      <td>NaN</td>\n",
       "      <td>NaN</td>\n",
       "      <td>NaN</td>\n",
       "      <td>NaN</td>\n",
       "    </tr>\n",
       "    <tr>\n",
       "      <th>1</th>\n",
       "      <td>1</td>\n",
       "      <td>Tata</td>\n",
       "      <td>Nano Genx</td>\n",
       "      <td>Xe</td>\n",
       "      <td>Rs. 2,36,447</td>\n",
       "      <td>624 cc</td>\n",
       "      <td>2.0</td>\n",
       "      <td>2.0</td>\n",
       "      <td>RWD (Rear Wheel Drive)</td>\n",
       "      <td>In-line</td>\n",
       "      <td>...</td>\n",
       "      <td>NaN</td>\n",
       "      <td>NaN</td>\n",
       "      <td>NaN</td>\n",
       "      <td>NaN</td>\n",
       "      <td>NaN</td>\n",
       "      <td>NaN</td>\n",
       "      <td>NaN</td>\n",
       "      <td>NaN</td>\n",
       "      <td>NaN</td>\n",
       "      <td>NaN</td>\n",
       "    </tr>\n",
       "    <tr>\n",
       "      <th>2</th>\n",
       "      <td>2</td>\n",
       "      <td>Tata</td>\n",
       "      <td>Nano Genx</td>\n",
       "      <td>Emax Xm</td>\n",
       "      <td>Rs. 2,96,661</td>\n",
       "      <td>624 cc</td>\n",
       "      <td>2.0</td>\n",
       "      <td>2.0</td>\n",
       "      <td>RWD (Rear Wheel Drive)</td>\n",
       "      <td>In-line</td>\n",
       "      <td>...</td>\n",
       "      <td>NaN</td>\n",
       "      <td>NaN</td>\n",
       "      <td>NaN</td>\n",
       "      <td>NaN</td>\n",
       "      <td>NaN</td>\n",
       "      <td>NaN</td>\n",
       "      <td>NaN</td>\n",
       "      <td>NaN</td>\n",
       "      <td>NaN</td>\n",
       "      <td>NaN</td>\n",
       "    </tr>\n",
       "    <tr>\n",
       "      <th>3</th>\n",
       "      <td>3</td>\n",
       "      <td>Tata</td>\n",
       "      <td>Nano Genx</td>\n",
       "      <td>Xta</td>\n",
       "      <td>Rs. 3,34,768</td>\n",
       "      <td>624 cc</td>\n",
       "      <td>2.0</td>\n",
       "      <td>2.0</td>\n",
       "      <td>RWD (Rear Wheel Drive)</td>\n",
       "      <td>In-line</td>\n",
       "      <td>...</td>\n",
       "      <td>NaN</td>\n",
       "      <td>NaN</td>\n",
       "      <td>NaN</td>\n",
       "      <td>NaN</td>\n",
       "      <td>NaN</td>\n",
       "      <td>NaN</td>\n",
       "      <td>NaN</td>\n",
       "      <td>NaN</td>\n",
       "      <td>NaN</td>\n",
       "      <td>NaN</td>\n",
       "    </tr>\n",
       "    <tr>\n",
       "      <th>4</th>\n",
       "      <td>4</td>\n",
       "      <td>Tata</td>\n",
       "      <td>Nano Genx</td>\n",
       "      <td>Xm</td>\n",
       "      <td>Rs. 2,72,223</td>\n",
       "      <td>624 cc</td>\n",
       "      <td>2.0</td>\n",
       "      <td>2.0</td>\n",
       "      <td>RWD (Rear Wheel Drive)</td>\n",
       "      <td>In-line</td>\n",
       "      <td>...</td>\n",
       "      <td>NaN</td>\n",
       "      <td>NaN</td>\n",
       "      <td>NaN</td>\n",
       "      <td>NaN</td>\n",
       "      <td>NaN</td>\n",
       "      <td>NaN</td>\n",
       "      <td>NaN</td>\n",
       "      <td>NaN</td>\n",
       "      <td>NaN</td>\n",
       "      <td>NaN</td>\n",
       "    </tr>\n",
       "  </tbody>\n",
       "</table></div>"
      ],
      "text/plain": [
       "   Unnamed: 0  Make      Model  Variant Ex-Showroom_Price Displacement  \\\n",
       "0           0  Tata  Nano Genx       Xt      Rs. 2,92,667       624 cc   \n",
       "1           1  Tata  Nano Genx       Xe      Rs. 2,36,447       624 cc   \n",
       "2           2  Tata  Nano Genx  Emax Xm      Rs. 2,96,661       624 cc   \n",
       "3           3  Tata  Nano Genx      Xta      Rs. 3,34,768       624 cc   \n",
       "4           4  Tata  Nano Genx       Xm      Rs. 2,72,223       624 cc   \n",
       "\n",
       "   Cylinders  Valves_Per_Cylinder              Drivetrain  \\\n",
       "0        2.0                  2.0  RWD (Rear Wheel Drive)   \n",
       "1        2.0                  2.0  RWD (Rear Wheel Drive)   \n",
       "2        2.0                  2.0  RWD (Rear Wheel Drive)   \n",
       "3        2.0                  2.0  RWD (Rear Wheel Drive)   \n",
       "4        2.0                  2.0  RWD (Rear Wheel Drive)   \n",
       "\n",
       "  Cylinder_Configuration  ... Leather_Wrapped_Steering Automatic_Headlamps  \\\n",
       "0                In-line  ...                      NaN                 NaN   \n",
       "1                In-line  ...                      NaN                 NaN   \n",
       "2                In-line  ...                      NaN                 NaN   \n",
       "3                In-line  ...                      NaN                 NaN   \n",
       "4                In-line  ...                      NaN                 NaN   \n",
       "\n",
       "  Engine_Type ASR_/_Traction_Control Cruise_Control USB_Ports  \\\n",
       "0         NaN                    NaN            NaN       NaN   \n",
       "1         NaN                    NaN            NaN       NaN   \n",
       "2         NaN                    NaN            NaN       NaN   \n",
       "3         NaN                    NaN            NaN       NaN   \n",
       "4         NaN                    NaN            NaN       NaN   \n",
       "\n",
       "  Heads-Up_Display Welcome_Lights Battery  Electric_Range  \n",
       "0              NaN            NaN     NaN             NaN  \n",
       "1              NaN            NaN     NaN             NaN  \n",
       "2              NaN            NaN     NaN             NaN  \n",
       "3              NaN            NaN     NaN             NaN  \n",
       "4              NaN            NaN     NaN             NaN  \n",
       "\n",
       "[5 rows x 141 columns]"
      ]
     },
     "execution_count": 7,
     "metadata": {},
     "output_type": "execute_result"
    }
   ],
   "source": [
    "df.head()\n"
   ]
  },
  {
   "cell_type": "code",
   "execution_count": null,
   "id": "a9f67a9a",
   "metadata": {},
   "outputs": [],
   "source": []
  },
  {
   "cell_type": "code",
   "execution_count": 8,
   "id": "9820563a",
   "metadata": {},
   "outputs": [],
   "source": [
    "df1=df.loc[:,['Make', 'Model', 'Variant', 'Ex-Showroom_Price', 'Displacement', 'Cylinders', 'Valves_Per_Cylinder', 'Drivetrain', 'Cylinder_Configuration', 'Emission_Norm', 'Engine_Location', 'Fuel_System', 'Fuel_Tank_Capacity', 'Fuel_Type','Engine_Type', 'Battery', 'Electric_Range','City_Mileage','Highway_Mileage','ARAI_Certified_Mileage','ARAI_Certified_Mileage_for_CNG']]"
   ]
  },
  {
   "cell_type": "code",
   "execution_count": 9,
   "id": "83e9ebe1",
   "metadata": {},
   "outputs": [
    {
     "name": "stdout",
     "output_type": "stream",
     "text": [
      "<class 'pandas.core.frame.DataFrame'>\n",
      "RangeIndex: 1267 entries, 0 to 1266\n",
      "Data columns (total 19 columns):\n",
      " #   Column                          Non-Null Count  Dtype \n",
      "---  ------                          --------------  ----- \n",
      " 0   Make                            1192 non-null   object\n",
      " 1   Model                           1267 non-null   object\n",
      " 2   Variant                         1267 non-null   object\n",
      " 3   Ex-Showroom_Price               1267 non-null   object\n",
      " 4   Displacement                    1255 non-null   object\n",
      " 5   Drivetrain                      1260 non-null   object\n",
      " 6   Cylinder_Configuration          1254 non-null   object\n",
      " 7   Emission_Norm                   1256 non-null   object\n",
      " 8   Engine_Location                 1224 non-null   object\n",
      " 9   Fuel_System                     1259 non-null   object\n",
      " 10  Fuel_Tank_Capacity              1197 non-null   object\n",
      " 11  Fuel_Type                       1267 non-null   object\n",
      " 12  Engine_Type                     34 non-null     object\n",
      " 13  Battery                         13 non-null     object\n",
      " 14  Electric_Range                  17 non-null     object\n",
      " 15  City_Mileage                    713 non-null    object\n",
      " 16  Highway_Mileage                 475 non-null    object\n",
      " 17  ARAI_Certified_Mileage          1151 non-null   object\n",
      " 18  ARAI_Certified_Mileage_for_CNG  27 non-null     object\n",
      "dtypes: object(19)\n",
      "memory usage: 188.2+ KB\n"
     ]
    }
   ],
   "source": [
    "df1_cat=df1.select_dtypes(include='object')\n",
    "df1_cat.info()"
   ]
  },
  {
   "cell_type": "code",
   "execution_count": 10,
   "id": "52354dfe",
   "metadata": {},
   "outputs": [
    {
     "data": {
      "text/html": [
       "<div><div id=0474fd9c-b378-4aae-a1fc-83cb07c222a0 style=\"display:none; background-color:#9D6CFF; color:white; width:200px; height:30px; padding-left:5px; border-radius:4px; flex-direction:row; justify-content:space-around; align-items:center;\" onmouseover=\"this.style.backgroundColor='#BA9BF8'\" onmouseout=\"this.style.backgroundColor='#9D6CFF'\" onclick=\"window.commands?.execute('create-mitosheet-from-dataframe-output');\">See Full Dataframe in Mito</div> <script> if (window.commands?.hasCommand('create-mitosheet-from-dataframe-output')) document.getElementById('0474fd9c-b378-4aae-a1fc-83cb07c222a0').style.display = 'flex' </script> <table border=\"1\" class=\"dataframe\">\n",
       "  <thead>\n",
       "    <tr style=\"text-align: right;\">\n",
       "      <th></th>\n",
       "      <th>Make</th>\n",
       "      <th>Model</th>\n",
       "      <th>Variant</th>\n",
       "      <th>Ex-Showroom_Price</th>\n",
       "      <th>Displacement</th>\n",
       "      <th>Cylinders</th>\n",
       "      <th>Valves_Per_Cylinder</th>\n",
       "      <th>Drivetrain</th>\n",
       "      <th>Cylinder_Configuration</th>\n",
       "      <th>Emission_Norm</th>\n",
       "      <th>...</th>\n",
       "      <th>Fuel_System</th>\n",
       "      <th>Fuel_Tank_Capacity</th>\n",
       "      <th>Fuel_Type</th>\n",
       "      <th>Engine_Type</th>\n",
       "      <th>Battery</th>\n",
       "      <th>Electric_Range</th>\n",
       "      <th>City_Mileage</th>\n",
       "      <th>Highway_Mileage</th>\n",
       "      <th>ARAI_Certified_Mileage</th>\n",
       "      <th>ARAI_Certified_Mileage_for_CNG</th>\n",
       "    </tr>\n",
       "  </thead>\n",
       "  <tbody>\n",
       "    <tr>\n",
       "      <th>0</th>\n",
       "      <td>Tata</td>\n",
       "      <td>Nano Genx</td>\n",
       "      <td>Xt</td>\n",
       "      <td>Rs. 2,92,667</td>\n",
       "      <td>624 cc</td>\n",
       "      <td>2.0</td>\n",
       "      <td>2.0</td>\n",
       "      <td>RWD (Rear Wheel Drive)</td>\n",
       "      <td>In-line</td>\n",
       "      <td>BS IV</td>\n",
       "      <td>...</td>\n",
       "      <td>Injection</td>\n",
       "      <td>24 litres</td>\n",
       "      <td>Petrol</td>\n",
       "      <td>NaN</td>\n",
       "      <td>NaN</td>\n",
       "      <td>NaN</td>\n",
       "      <td>?23.6 km/litre</td>\n",
       "      <td>NaN</td>\n",
       "      <td>23.6 km/litre</td>\n",
       "      <td>NaN</td>\n",
       "    </tr>\n",
       "    <tr>\n",
       "      <th>1</th>\n",
       "      <td>Tata</td>\n",
       "      <td>Nano Genx</td>\n",
       "      <td>Xe</td>\n",
       "      <td>Rs. 2,36,447</td>\n",
       "      <td>624 cc</td>\n",
       "      <td>2.0</td>\n",
       "      <td>2.0</td>\n",
       "      <td>RWD (Rear Wheel Drive)</td>\n",
       "      <td>In-line</td>\n",
       "      <td>BS IV</td>\n",
       "      <td>...</td>\n",
       "      <td>Injection</td>\n",
       "      <td>24 litres</td>\n",
       "      <td>Petrol</td>\n",
       "      <td>NaN</td>\n",
       "      <td>NaN</td>\n",
       "      <td>NaN</td>\n",
       "      <td>?23.6 km/litre</td>\n",
       "      <td>NaN</td>\n",
       "      <td>23.6 km/litre</td>\n",
       "      <td>NaN</td>\n",
       "    </tr>\n",
       "    <tr>\n",
       "      <th>2</th>\n",
       "      <td>Tata</td>\n",
       "      <td>Nano Genx</td>\n",
       "      <td>Emax Xm</td>\n",
       "      <td>Rs. 2,96,661</td>\n",
       "      <td>624 cc</td>\n",
       "      <td>2.0</td>\n",
       "      <td>2.0</td>\n",
       "      <td>RWD (Rear Wheel Drive)</td>\n",
       "      <td>In-line</td>\n",
       "      <td>BS IV</td>\n",
       "      <td>...</td>\n",
       "      <td>Injection</td>\n",
       "      <td>15 litres</td>\n",
       "      <td>CNG</td>\n",
       "      <td>NaN</td>\n",
       "      <td>NaN</td>\n",
       "      <td>NaN</td>\n",
       "      <td>NaN</td>\n",
       "      <td>NaN</td>\n",
       "      <td>NaN</td>\n",
       "      <td>36 km/kg</td>\n",
       "    </tr>\n",
       "    <tr>\n",
       "      <th>3</th>\n",
       "      <td>Tata</td>\n",
       "      <td>Nano Genx</td>\n",
       "      <td>Xta</td>\n",
       "      <td>Rs. 3,34,768</td>\n",
       "      <td>624 cc</td>\n",
       "      <td>2.0</td>\n",
       "      <td>2.0</td>\n",
       "      <td>RWD (Rear Wheel Drive)</td>\n",
       "      <td>In-line</td>\n",
       "      <td>BS IV</td>\n",
       "      <td>...</td>\n",
       "      <td>Injection</td>\n",
       "      <td>24 litres</td>\n",
       "      <td>Petrol</td>\n",
       "      <td>NaN</td>\n",
       "      <td>NaN</td>\n",
       "      <td>NaN</td>\n",
       "      <td>?23.6 km/litre</td>\n",
       "      <td>NaN</td>\n",
       "      <td>21.9 km/litre</td>\n",
       "      <td>NaN</td>\n",
       "    </tr>\n",
       "    <tr>\n",
       "      <th>4</th>\n",
       "      <td>Tata</td>\n",
       "      <td>Nano Genx</td>\n",
       "      <td>Xm</td>\n",
       "      <td>Rs. 2,72,223</td>\n",
       "      <td>624 cc</td>\n",
       "      <td>2.0</td>\n",
       "      <td>2.0</td>\n",
       "      <td>RWD (Rear Wheel Drive)</td>\n",
       "      <td>In-line</td>\n",
       "      <td>BS IV</td>\n",
       "      <td>...</td>\n",
       "      <td>Injection</td>\n",
       "      <td>24 litres</td>\n",
       "      <td>Petrol</td>\n",
       "      <td>NaN</td>\n",
       "      <td>NaN</td>\n",
       "      <td>NaN</td>\n",
       "      <td>?23.6 km/litre</td>\n",
       "      <td>NaN</td>\n",
       "      <td>23.6 km/litre</td>\n",
       "      <td>NaN</td>\n",
       "    </tr>\n",
       "  </tbody>\n",
       "</table></div>"
      ],
      "text/plain": [
       "   Make      Model  Variant Ex-Showroom_Price Displacement  Cylinders  \\\n",
       "0  Tata  Nano Genx       Xt      Rs. 2,92,667       624 cc        2.0   \n",
       "1  Tata  Nano Genx       Xe      Rs. 2,36,447       624 cc        2.0   \n",
       "2  Tata  Nano Genx  Emax Xm      Rs. 2,96,661       624 cc        2.0   \n",
       "3  Tata  Nano Genx      Xta      Rs. 3,34,768       624 cc        2.0   \n",
       "4  Tata  Nano Genx       Xm      Rs. 2,72,223       624 cc        2.0   \n",
       "\n",
       "   Valves_Per_Cylinder              Drivetrain Cylinder_Configuration  \\\n",
       "0                  2.0  RWD (Rear Wheel Drive)                In-line   \n",
       "1                  2.0  RWD (Rear Wheel Drive)                In-line   \n",
       "2                  2.0  RWD (Rear Wheel Drive)                In-line   \n",
       "3                  2.0  RWD (Rear Wheel Drive)                In-line   \n",
       "4                  2.0  RWD (Rear Wheel Drive)                In-line   \n",
       "\n",
       "  Emission_Norm  ... Fuel_System Fuel_Tank_Capacity Fuel_Type Engine_Type  \\\n",
       "0         BS IV  ...   Injection          24 litres    Petrol         NaN   \n",
       "1         BS IV  ...   Injection          24 litres    Petrol         NaN   \n",
       "2         BS IV  ...   Injection          15 litres       CNG         NaN   \n",
       "3         BS IV  ...   Injection          24 litres    Petrol         NaN   \n",
       "4         BS IV  ...   Injection          24 litres    Petrol         NaN   \n",
       "\n",
       "  Battery Electric_Range    City_Mileage Highway_Mileage  \\\n",
       "0     NaN            NaN  ?23.6 km/litre             NaN   \n",
       "1     NaN            NaN  ?23.6 km/litre             NaN   \n",
       "2     NaN            NaN             NaN             NaN   \n",
       "3     NaN            NaN  ?23.6 km/litre             NaN   \n",
       "4     NaN            NaN  ?23.6 km/litre             NaN   \n",
       "\n",
       "  ARAI_Certified_Mileage ARAI_Certified_Mileage_for_CNG  \n",
       "0          23.6 km/litre                            NaN  \n",
       "1          23.6 km/litre                            NaN  \n",
       "2                    NaN                       36 km/kg  \n",
       "3          21.9 km/litre                            NaN  \n",
       "4          23.6 km/litre                            NaN  \n",
       "\n",
       "[5 rows x 21 columns]"
      ]
     },
     "execution_count": 10,
     "metadata": {},
     "output_type": "execute_result"
    }
   ],
   "source": [
    "df1.head()"
   ]
  },
  {
   "cell_type": "code",
   "execution_count": 11,
   "id": "67bd8dbf",
   "metadata": {},
   "outputs": [
    {
     "name": "stdout",
     "output_type": "stream",
     "text": [
      "<class 'pandas.core.frame.DataFrame'>\n",
      "RangeIndex: 1267 entries, 0 to 1266\n",
      "Data columns (total 21 columns):\n",
      " #   Column                          Non-Null Count  Dtype  \n",
      "---  ------                          --------------  -----  \n",
      " 0   Make                            1192 non-null   object \n",
      " 1   Model                           1267 non-null   object \n",
      " 2   Variant                         1267 non-null   object \n",
      " 3   Ex-Showroom_Price               1267 non-null   object \n",
      " 4   Displacement                    1255 non-null   object \n",
      " 5   Cylinders                       1201 non-null   float64\n",
      " 6   Valves_Per_Cylinder             1165 non-null   float64\n",
      " 7   Drivetrain                      1260 non-null   object \n",
      " 8   Cylinder_Configuration          1254 non-null   object \n",
      " 9   Emission_Norm                   1256 non-null   object \n",
      " 10  Engine_Location                 1224 non-null   object \n",
      " 11  Fuel_System                     1259 non-null   object \n",
      " 12  Fuel_Tank_Capacity              1197 non-null   object \n",
      " 13  Fuel_Type                       1267 non-null   object \n",
      " 14  Engine_Type                     34 non-null     object \n",
      " 15  Battery                         13 non-null     object \n",
      " 16  Electric_Range                  17 non-null     object \n",
      " 17  City_Mileage                    713 non-null    object \n",
      " 18  Highway_Mileage                 475 non-null    object \n",
      " 19  ARAI_Certified_Mileage          1151 non-null   object \n",
      " 20  ARAI_Certified_Mileage_for_CNG  27 non-null     object \n",
      "dtypes: float64(2), object(19)\n",
      "memory usage: 208.0+ KB\n"
     ]
    }
   ],
   "source": [
    "df1.info()"
   ]
  },
  {
   "cell_type": "code",
   "execution_count": 12,
   "id": "630df71f",
   "metadata": {},
   "outputs": [
    {
     "ename": "ValueError",
     "evalue": "could not convert string to float: '?23.6 km/litre'",
     "output_type": "error",
     "traceback": [
      "\u001b[1;31m---------------------------------------------------------------------------\u001b[0m",
      "\u001b[1;31mValueError\u001b[0m                                Traceback (most recent call last)",
      "\u001b[1;32m~\\AppData\\Local\\Temp/ipykernel_31776/1899553846.py\u001b[0m in \u001b[0;36m<module>\u001b[1;34m\u001b[0m\n\u001b[1;32m----> 1\u001b[1;33m \u001b[0mdf1\u001b[0m\u001b[1;33m.\u001b[0m\u001b[0mCity_Mileage\u001b[0m\u001b[1;33m=\u001b[0m\u001b[0mdf1\u001b[0m\u001b[1;33m.\u001b[0m\u001b[0mCity_Mileage\u001b[0m\u001b[1;33m.\u001b[0m\u001b[0mastype\u001b[0m\u001b[1;33m(\u001b[0m\u001b[0mfloat\u001b[0m\u001b[1;33m)\u001b[0m\u001b[1;33m\u001b[0m\u001b[1;33m\u001b[0m\u001b[0m\n\u001b[0m",
      "\u001b[1;32m~\\anaconda3\\lib\\site-packages\\pandas\\core\\generic.py\u001b[0m in \u001b[0;36mastype\u001b[1;34m(self, dtype, copy, errors)\u001b[0m\n\u001b[0;32m   5918\u001b[0m         \u001b[1;32melse\u001b[0m\u001b[1;33m:\u001b[0m\u001b[1;33m\u001b[0m\u001b[1;33m\u001b[0m\u001b[0m\n\u001b[0;32m   5919\u001b[0m             \u001b[1;31m# else, only a single dtype is given\u001b[0m\u001b[1;33m\u001b[0m\u001b[1;33m\u001b[0m\u001b[1;33m\u001b[0m\u001b[0m\n\u001b[1;32m-> 5920\u001b[1;33m             \u001b[0mnew_data\u001b[0m \u001b[1;33m=\u001b[0m \u001b[0mself\u001b[0m\u001b[1;33m.\u001b[0m\u001b[0m_mgr\u001b[0m\u001b[1;33m.\u001b[0m\u001b[0mastype\u001b[0m\u001b[1;33m(\u001b[0m\u001b[0mdtype\u001b[0m\u001b[1;33m=\u001b[0m\u001b[0mdtype\u001b[0m\u001b[1;33m,\u001b[0m \u001b[0mcopy\u001b[0m\u001b[1;33m=\u001b[0m\u001b[0mcopy\u001b[0m\u001b[1;33m,\u001b[0m \u001b[0merrors\u001b[0m\u001b[1;33m=\u001b[0m\u001b[0merrors\u001b[0m\u001b[1;33m)\u001b[0m\u001b[1;33m\u001b[0m\u001b[1;33m\u001b[0m\u001b[0m\n\u001b[0m\u001b[0;32m   5921\u001b[0m             \u001b[1;32mreturn\u001b[0m \u001b[0mself\u001b[0m\u001b[1;33m.\u001b[0m\u001b[0m_constructor\u001b[0m\u001b[1;33m(\u001b[0m\u001b[0mnew_data\u001b[0m\u001b[1;33m)\u001b[0m\u001b[1;33m.\u001b[0m\u001b[0m__finalize__\u001b[0m\u001b[1;33m(\u001b[0m\u001b[0mself\u001b[0m\u001b[1;33m,\u001b[0m \u001b[0mmethod\u001b[0m\u001b[1;33m=\u001b[0m\u001b[1;34m\"astype\"\u001b[0m\u001b[1;33m)\u001b[0m\u001b[1;33m\u001b[0m\u001b[1;33m\u001b[0m\u001b[0m\n\u001b[0;32m   5922\u001b[0m \u001b[1;33m\u001b[0m\u001b[0m\n",
      "\u001b[1;32m~\\anaconda3\\lib\\site-packages\\pandas\\core\\internals\\managers.py\u001b[0m in \u001b[0;36mastype\u001b[1;34m(self, dtype, copy, errors)\u001b[0m\n\u001b[0;32m    417\u001b[0m \u001b[1;33m\u001b[0m\u001b[0m\n\u001b[0;32m    418\u001b[0m     \u001b[1;32mdef\u001b[0m \u001b[0mastype\u001b[0m\u001b[1;33m(\u001b[0m\u001b[0mself\u001b[0m\u001b[1;33m:\u001b[0m \u001b[0mT\u001b[0m\u001b[1;33m,\u001b[0m \u001b[0mdtype\u001b[0m\u001b[1;33m,\u001b[0m \u001b[0mcopy\u001b[0m\u001b[1;33m:\u001b[0m \u001b[0mbool\u001b[0m \u001b[1;33m=\u001b[0m \u001b[1;32mFalse\u001b[0m\u001b[1;33m,\u001b[0m \u001b[0merrors\u001b[0m\u001b[1;33m:\u001b[0m \u001b[0mstr\u001b[0m \u001b[1;33m=\u001b[0m \u001b[1;34m\"raise\"\u001b[0m\u001b[1;33m)\u001b[0m \u001b[1;33m->\u001b[0m \u001b[0mT\u001b[0m\u001b[1;33m:\u001b[0m\u001b[1;33m\u001b[0m\u001b[1;33m\u001b[0m\u001b[0m\n\u001b[1;32m--> 419\u001b[1;33m         \u001b[1;32mreturn\u001b[0m \u001b[0mself\u001b[0m\u001b[1;33m.\u001b[0m\u001b[0mapply\u001b[0m\u001b[1;33m(\u001b[0m\u001b[1;34m\"astype\"\u001b[0m\u001b[1;33m,\u001b[0m \u001b[0mdtype\u001b[0m\u001b[1;33m=\u001b[0m\u001b[0mdtype\u001b[0m\u001b[1;33m,\u001b[0m \u001b[0mcopy\u001b[0m\u001b[1;33m=\u001b[0m\u001b[0mcopy\u001b[0m\u001b[1;33m,\u001b[0m \u001b[0merrors\u001b[0m\u001b[1;33m=\u001b[0m\u001b[0merrors\u001b[0m\u001b[1;33m)\u001b[0m\u001b[1;33m\u001b[0m\u001b[1;33m\u001b[0m\u001b[0m\n\u001b[0m\u001b[0;32m    420\u001b[0m \u001b[1;33m\u001b[0m\u001b[0m\n\u001b[0;32m    421\u001b[0m     def convert(\n",
      "\u001b[1;32m~\\anaconda3\\lib\\site-packages\\pandas\\core\\internals\\managers.py\u001b[0m in \u001b[0;36mapply\u001b[1;34m(self, f, align_keys, ignore_failures, **kwargs)\u001b[0m\n\u001b[0;32m    302\u001b[0m                     \u001b[0mapplied\u001b[0m \u001b[1;33m=\u001b[0m \u001b[0mb\u001b[0m\u001b[1;33m.\u001b[0m\u001b[0mapply\u001b[0m\u001b[1;33m(\u001b[0m\u001b[0mf\u001b[0m\u001b[1;33m,\u001b[0m \u001b[1;33m**\u001b[0m\u001b[0mkwargs\u001b[0m\u001b[1;33m)\u001b[0m\u001b[1;33m\u001b[0m\u001b[1;33m\u001b[0m\u001b[0m\n\u001b[0;32m    303\u001b[0m                 \u001b[1;32melse\u001b[0m\u001b[1;33m:\u001b[0m\u001b[1;33m\u001b[0m\u001b[1;33m\u001b[0m\u001b[0m\n\u001b[1;32m--> 304\u001b[1;33m                     \u001b[0mapplied\u001b[0m \u001b[1;33m=\u001b[0m \u001b[0mgetattr\u001b[0m\u001b[1;33m(\u001b[0m\u001b[0mb\u001b[0m\u001b[1;33m,\u001b[0m \u001b[0mf\u001b[0m\u001b[1;33m)\u001b[0m\u001b[1;33m(\u001b[0m\u001b[1;33m**\u001b[0m\u001b[0mkwargs\u001b[0m\u001b[1;33m)\u001b[0m\u001b[1;33m\u001b[0m\u001b[1;33m\u001b[0m\u001b[0m\n\u001b[0m\u001b[0;32m    305\u001b[0m             \u001b[1;32mexcept\u001b[0m \u001b[1;33m(\u001b[0m\u001b[0mTypeError\u001b[0m\u001b[1;33m,\u001b[0m \u001b[0mNotImplementedError\u001b[0m\u001b[1;33m)\u001b[0m\u001b[1;33m:\u001b[0m\u001b[1;33m\u001b[0m\u001b[1;33m\u001b[0m\u001b[0m\n\u001b[0;32m    306\u001b[0m                 \u001b[1;32mif\u001b[0m \u001b[1;32mnot\u001b[0m \u001b[0mignore_failures\u001b[0m\u001b[1;33m:\u001b[0m\u001b[1;33m\u001b[0m\u001b[1;33m\u001b[0m\u001b[0m\n",
      "\u001b[1;32m~\\anaconda3\\lib\\site-packages\\pandas\\core\\internals\\blocks.py\u001b[0m in \u001b[0;36mastype\u001b[1;34m(self, dtype, copy, errors)\u001b[0m\n\u001b[0;32m    578\u001b[0m         \u001b[0mvalues\u001b[0m \u001b[1;33m=\u001b[0m \u001b[0mself\u001b[0m\u001b[1;33m.\u001b[0m\u001b[0mvalues\u001b[0m\u001b[1;33m\u001b[0m\u001b[1;33m\u001b[0m\u001b[0m\n\u001b[0;32m    579\u001b[0m \u001b[1;33m\u001b[0m\u001b[0m\n\u001b[1;32m--> 580\u001b[1;33m         \u001b[0mnew_values\u001b[0m \u001b[1;33m=\u001b[0m \u001b[0mastype_array_safe\u001b[0m\u001b[1;33m(\u001b[0m\u001b[0mvalues\u001b[0m\u001b[1;33m,\u001b[0m \u001b[0mdtype\u001b[0m\u001b[1;33m,\u001b[0m \u001b[0mcopy\u001b[0m\u001b[1;33m=\u001b[0m\u001b[0mcopy\u001b[0m\u001b[1;33m,\u001b[0m \u001b[0merrors\u001b[0m\u001b[1;33m=\u001b[0m\u001b[0merrors\u001b[0m\u001b[1;33m)\u001b[0m\u001b[1;33m\u001b[0m\u001b[1;33m\u001b[0m\u001b[0m\n\u001b[0m\u001b[0;32m    581\u001b[0m \u001b[1;33m\u001b[0m\u001b[0m\n\u001b[0;32m    582\u001b[0m         \u001b[0mnew_values\u001b[0m \u001b[1;33m=\u001b[0m \u001b[0mmaybe_coerce_values\u001b[0m\u001b[1;33m(\u001b[0m\u001b[0mnew_values\u001b[0m\u001b[1;33m)\u001b[0m\u001b[1;33m\u001b[0m\u001b[1;33m\u001b[0m\u001b[0m\n",
      "\u001b[1;32m~\\anaconda3\\lib\\site-packages\\pandas\\core\\dtypes\\cast.py\u001b[0m in \u001b[0;36mastype_array_safe\u001b[1;34m(values, dtype, copy, errors)\u001b[0m\n\u001b[0;32m   1290\u001b[0m \u001b[1;33m\u001b[0m\u001b[0m\n\u001b[0;32m   1291\u001b[0m     \u001b[1;32mtry\u001b[0m\u001b[1;33m:\u001b[0m\u001b[1;33m\u001b[0m\u001b[1;33m\u001b[0m\u001b[0m\n\u001b[1;32m-> 1292\u001b[1;33m         \u001b[0mnew_values\u001b[0m \u001b[1;33m=\u001b[0m \u001b[0mastype_array\u001b[0m\u001b[1;33m(\u001b[0m\u001b[0mvalues\u001b[0m\u001b[1;33m,\u001b[0m \u001b[0mdtype\u001b[0m\u001b[1;33m,\u001b[0m \u001b[0mcopy\u001b[0m\u001b[1;33m=\u001b[0m\u001b[0mcopy\u001b[0m\u001b[1;33m)\u001b[0m\u001b[1;33m\u001b[0m\u001b[1;33m\u001b[0m\u001b[0m\n\u001b[0m\u001b[0;32m   1293\u001b[0m     \u001b[1;32mexcept\u001b[0m \u001b[1;33m(\u001b[0m\u001b[0mValueError\u001b[0m\u001b[1;33m,\u001b[0m \u001b[0mTypeError\u001b[0m\u001b[1;33m)\u001b[0m\u001b[1;33m:\u001b[0m\u001b[1;33m\u001b[0m\u001b[1;33m\u001b[0m\u001b[0m\n\u001b[0;32m   1294\u001b[0m         \u001b[1;31m# e.g. astype_nansafe can fail on object-dtype of strings\u001b[0m\u001b[1;33m\u001b[0m\u001b[1;33m\u001b[0m\u001b[1;33m\u001b[0m\u001b[0m\n",
      "\u001b[1;32m~\\anaconda3\\lib\\site-packages\\pandas\\core\\dtypes\\cast.py\u001b[0m in \u001b[0;36mastype_array\u001b[1;34m(values, dtype, copy)\u001b[0m\n\u001b[0;32m   1235\u001b[0m \u001b[1;33m\u001b[0m\u001b[0m\n\u001b[0;32m   1236\u001b[0m     \u001b[1;32melse\u001b[0m\u001b[1;33m:\u001b[0m\u001b[1;33m\u001b[0m\u001b[1;33m\u001b[0m\u001b[0m\n\u001b[1;32m-> 1237\u001b[1;33m         \u001b[0mvalues\u001b[0m \u001b[1;33m=\u001b[0m \u001b[0mastype_nansafe\u001b[0m\u001b[1;33m(\u001b[0m\u001b[0mvalues\u001b[0m\u001b[1;33m,\u001b[0m \u001b[0mdtype\u001b[0m\u001b[1;33m,\u001b[0m \u001b[0mcopy\u001b[0m\u001b[1;33m=\u001b[0m\u001b[0mcopy\u001b[0m\u001b[1;33m)\u001b[0m\u001b[1;33m\u001b[0m\u001b[1;33m\u001b[0m\u001b[0m\n\u001b[0m\u001b[0;32m   1238\u001b[0m \u001b[1;33m\u001b[0m\u001b[0m\n\u001b[0;32m   1239\u001b[0m     \u001b[1;31m# in pandas we don't store numpy str dtypes, so convert to object\u001b[0m\u001b[1;33m\u001b[0m\u001b[1;33m\u001b[0m\u001b[1;33m\u001b[0m\u001b[0m\n",
      "\u001b[1;32m~\\anaconda3\\lib\\site-packages\\pandas\\core\\dtypes\\cast.py\u001b[0m in \u001b[0;36mastype_nansafe\u001b[1;34m(arr, dtype, copy, skipna)\u001b[0m\n\u001b[0;32m   1179\u001b[0m     \u001b[1;32mif\u001b[0m \u001b[0mcopy\u001b[0m \u001b[1;32mor\u001b[0m \u001b[0mis_object_dtype\u001b[0m\u001b[1;33m(\u001b[0m\u001b[0marr\u001b[0m\u001b[1;33m.\u001b[0m\u001b[0mdtype\u001b[0m\u001b[1;33m)\u001b[0m \u001b[1;32mor\u001b[0m \u001b[0mis_object_dtype\u001b[0m\u001b[1;33m(\u001b[0m\u001b[0mdtype\u001b[0m\u001b[1;33m)\u001b[0m\u001b[1;33m:\u001b[0m\u001b[1;33m\u001b[0m\u001b[1;33m\u001b[0m\u001b[0m\n\u001b[0;32m   1180\u001b[0m         \u001b[1;31m# Explicit copy, or required since NumPy can't view from / to object.\u001b[0m\u001b[1;33m\u001b[0m\u001b[1;33m\u001b[0m\u001b[1;33m\u001b[0m\u001b[0m\n\u001b[1;32m-> 1181\u001b[1;33m         \u001b[1;32mreturn\u001b[0m \u001b[0marr\u001b[0m\u001b[1;33m.\u001b[0m\u001b[0mastype\u001b[0m\u001b[1;33m(\u001b[0m\u001b[0mdtype\u001b[0m\u001b[1;33m,\u001b[0m \u001b[0mcopy\u001b[0m\u001b[1;33m=\u001b[0m\u001b[1;32mTrue\u001b[0m\u001b[1;33m)\u001b[0m\u001b[1;33m\u001b[0m\u001b[1;33m\u001b[0m\u001b[0m\n\u001b[0m\u001b[0;32m   1182\u001b[0m \u001b[1;33m\u001b[0m\u001b[0m\n\u001b[0;32m   1183\u001b[0m     \u001b[1;32mreturn\u001b[0m \u001b[0marr\u001b[0m\u001b[1;33m.\u001b[0m\u001b[0mastype\u001b[0m\u001b[1;33m(\u001b[0m\u001b[0mdtype\u001b[0m\u001b[1;33m,\u001b[0m \u001b[0mcopy\u001b[0m\u001b[1;33m=\u001b[0m\u001b[0mcopy\u001b[0m\u001b[1;33m)\u001b[0m\u001b[1;33m\u001b[0m\u001b[1;33m\u001b[0m\u001b[0m\n",
      "\u001b[1;31mValueError\u001b[0m: could not convert string to float: '?23.6 km/litre'"
     ]
    }
   ],
   "source": [
    "df1.City_Mileage=df1.City_Mileage.astype(float) "
   ]
  },
  {
   "cell_type": "code",
   "execution_count": 32,
   "id": "d9410856",
   "metadata": {},
   "outputs": [],
   "source": [
    "# df1[\"City_Mileage\"] = [float(str(i).replace(\",\", \"\")) for i in df1[\"City_Mileage\"]]\n",
    "# df1[\"City_Mileage\"] = [float(str(i).replace(\"'12.5-12.7 '\", \"\")) for i in df1[\"City_Mileage\"]]"
   ]
  },
  {
   "cell_type": "code",
   "execution_count": 33,
   "id": "0f5c104b",
   "metadata": {},
   "outputs": [
    {
     "name": "stderr",
     "output_type": "stream",
     "text": [
      "C:\\Users\\lance\\AppData\\Local\\Temp/ipykernel_22364/1960005514.py:1: FutureWarning: The default value of regex will change from True to False in a future version. In addition, single character regular expressions will *not* be treated as literal strings when regex=True.\n",
      "  df1.City_Mileage=df1.City_Mileage.str.replace('?','')\n"
     ]
    },
    {
     "ename": "ValueError",
     "evalue": "could not convert string to float: '12.5-12.7 '",
     "output_type": "error",
     "traceback": [
      "\u001b[1;31m---------------------------------------------------------------------------\u001b[0m",
      "\u001b[1;31mValueError\u001b[0m                                Traceback (most recent call last)",
      "\u001b[1;32m~\\AppData\\Local\\Temp/ipykernel_22364/1960005514.py\u001b[0m in \u001b[0;36m<module>\u001b[1;34m\u001b[0m\n\u001b[0;32m      2\u001b[0m \u001b[0mdf1\u001b[0m\u001b[1;33m.\u001b[0m\u001b[0mCity_Mileage\u001b[0m\u001b[1;33m=\u001b[0m\u001b[0mdf1\u001b[0m\u001b[1;33m.\u001b[0m\u001b[0mCity_Mileage\u001b[0m\u001b[1;33m.\u001b[0m\u001b[0mstr\u001b[0m\u001b[1;33m.\u001b[0m\u001b[0mreplace\u001b[0m\u001b[1;33m(\u001b[0m\u001b[1;34m'km/litre'\u001b[0m\u001b[1;33m,\u001b[0m\u001b[1;34m''\u001b[0m\u001b[1;33m)\u001b[0m\u001b[1;33m\u001b[0m\u001b[1;33m\u001b[0m\u001b[0m\n\u001b[0;32m      3\u001b[0m \u001b[0mdf1\u001b[0m\u001b[1;33m.\u001b[0m\u001b[0mCity_Mileage\u001b[0m\u001b[1;33m=\u001b[0m\u001b[0mdf1\u001b[0m\u001b[1;33m.\u001b[0m\u001b[0mCity_Mileage\u001b[0m\u001b[1;33m.\u001b[0m\u001b[0mstr\u001b[0m\u001b[1;33m.\u001b[0m\u001b[0mreplace\u001b[0m\u001b[1;33m(\u001b[0m\u001b[1;34m','\u001b[0m\u001b[1;33m,\u001b[0m\u001b[1;34m''\u001b[0m\u001b[1;33m)\u001b[0m\u001b[1;33m\u001b[0m\u001b[1;33m\u001b[0m\u001b[0m\n\u001b[1;32m----> 4\u001b[1;33m \u001b[0mdf1\u001b[0m\u001b[1;33m.\u001b[0m\u001b[0mCity_Mileage\u001b[0m\u001b[1;33m=\u001b[0m\u001b[0mdf1\u001b[0m\u001b[1;33m.\u001b[0m\u001b[0mCity_Mileage\u001b[0m\u001b[1;33m.\u001b[0m\u001b[0mstr\u001b[0m\u001b[1;33m.\u001b[0m\u001b[0mreplace\u001b[0m\u001b[1;33m(\u001b[0m\u001b[1;34m','\u001b[0m\u001b[1;33m,\u001b[0m\u001b[1;34m''\u001b[0m\u001b[1;33m)\u001b[0m\u001b[1;33m.\u001b[0m\u001b[0mastype\u001b[0m\u001b[1;33m(\u001b[0m\u001b[0mfloat\u001b[0m\u001b[1;33m)\u001b[0m\u001b[1;33m\u001b[0m\u001b[1;33m\u001b[0m\u001b[0m\n\u001b[0m\u001b[0;32m      5\u001b[0m df1.City_Mileage=df1.City_Mileage.split('\\d{2}\\S\\d+\\s','\\d{2}\\.\\d+\\s','12.5-12.7 ',\n\u001b[0;32m      6\u001b[0m regex=True,inplace=True)\n",
      "\u001b[1;32m~\\anaconda3\\lib\\site-packages\\pandas\\core\\generic.py\u001b[0m in \u001b[0;36mastype\u001b[1;34m(self, dtype, copy, errors)\u001b[0m\n\u001b[0;32m   5918\u001b[0m         \u001b[1;32melse\u001b[0m\u001b[1;33m:\u001b[0m\u001b[1;33m\u001b[0m\u001b[1;33m\u001b[0m\u001b[0m\n\u001b[0;32m   5919\u001b[0m             \u001b[1;31m# else, only a single dtype is given\u001b[0m\u001b[1;33m\u001b[0m\u001b[1;33m\u001b[0m\u001b[1;33m\u001b[0m\u001b[0m\n\u001b[1;32m-> 5920\u001b[1;33m             \u001b[0mnew_data\u001b[0m \u001b[1;33m=\u001b[0m \u001b[0mself\u001b[0m\u001b[1;33m.\u001b[0m\u001b[0m_mgr\u001b[0m\u001b[1;33m.\u001b[0m\u001b[0mastype\u001b[0m\u001b[1;33m(\u001b[0m\u001b[0mdtype\u001b[0m\u001b[1;33m=\u001b[0m\u001b[0mdtype\u001b[0m\u001b[1;33m,\u001b[0m \u001b[0mcopy\u001b[0m\u001b[1;33m=\u001b[0m\u001b[0mcopy\u001b[0m\u001b[1;33m,\u001b[0m \u001b[0merrors\u001b[0m\u001b[1;33m=\u001b[0m\u001b[0merrors\u001b[0m\u001b[1;33m)\u001b[0m\u001b[1;33m\u001b[0m\u001b[1;33m\u001b[0m\u001b[0m\n\u001b[0m\u001b[0;32m   5921\u001b[0m             \u001b[1;32mreturn\u001b[0m \u001b[0mself\u001b[0m\u001b[1;33m.\u001b[0m\u001b[0m_constructor\u001b[0m\u001b[1;33m(\u001b[0m\u001b[0mnew_data\u001b[0m\u001b[1;33m)\u001b[0m\u001b[1;33m.\u001b[0m\u001b[0m__finalize__\u001b[0m\u001b[1;33m(\u001b[0m\u001b[0mself\u001b[0m\u001b[1;33m,\u001b[0m \u001b[0mmethod\u001b[0m\u001b[1;33m=\u001b[0m\u001b[1;34m\"astype\"\u001b[0m\u001b[1;33m)\u001b[0m\u001b[1;33m\u001b[0m\u001b[1;33m\u001b[0m\u001b[0m\n\u001b[0;32m   5922\u001b[0m \u001b[1;33m\u001b[0m\u001b[0m\n",
      "\u001b[1;32m~\\anaconda3\\lib\\site-packages\\pandas\\core\\internals\\managers.py\u001b[0m in \u001b[0;36mastype\u001b[1;34m(self, dtype, copy, errors)\u001b[0m\n\u001b[0;32m    417\u001b[0m \u001b[1;33m\u001b[0m\u001b[0m\n\u001b[0;32m    418\u001b[0m     \u001b[1;32mdef\u001b[0m \u001b[0mastype\u001b[0m\u001b[1;33m(\u001b[0m\u001b[0mself\u001b[0m\u001b[1;33m:\u001b[0m \u001b[0mT\u001b[0m\u001b[1;33m,\u001b[0m \u001b[0mdtype\u001b[0m\u001b[1;33m,\u001b[0m \u001b[0mcopy\u001b[0m\u001b[1;33m:\u001b[0m \u001b[0mbool\u001b[0m \u001b[1;33m=\u001b[0m \u001b[1;32mFalse\u001b[0m\u001b[1;33m,\u001b[0m \u001b[0merrors\u001b[0m\u001b[1;33m:\u001b[0m \u001b[0mstr\u001b[0m \u001b[1;33m=\u001b[0m \u001b[1;34m\"raise\"\u001b[0m\u001b[1;33m)\u001b[0m \u001b[1;33m->\u001b[0m \u001b[0mT\u001b[0m\u001b[1;33m:\u001b[0m\u001b[1;33m\u001b[0m\u001b[1;33m\u001b[0m\u001b[0m\n\u001b[1;32m--> 419\u001b[1;33m         \u001b[1;32mreturn\u001b[0m \u001b[0mself\u001b[0m\u001b[1;33m.\u001b[0m\u001b[0mapply\u001b[0m\u001b[1;33m(\u001b[0m\u001b[1;34m\"astype\"\u001b[0m\u001b[1;33m,\u001b[0m \u001b[0mdtype\u001b[0m\u001b[1;33m=\u001b[0m\u001b[0mdtype\u001b[0m\u001b[1;33m,\u001b[0m \u001b[0mcopy\u001b[0m\u001b[1;33m=\u001b[0m\u001b[0mcopy\u001b[0m\u001b[1;33m,\u001b[0m \u001b[0merrors\u001b[0m\u001b[1;33m=\u001b[0m\u001b[0merrors\u001b[0m\u001b[1;33m)\u001b[0m\u001b[1;33m\u001b[0m\u001b[1;33m\u001b[0m\u001b[0m\n\u001b[0m\u001b[0;32m    420\u001b[0m \u001b[1;33m\u001b[0m\u001b[0m\n\u001b[0;32m    421\u001b[0m     def convert(\n",
      "\u001b[1;32m~\\anaconda3\\lib\\site-packages\\pandas\\core\\internals\\managers.py\u001b[0m in \u001b[0;36mapply\u001b[1;34m(self, f, align_keys, ignore_failures, **kwargs)\u001b[0m\n\u001b[0;32m    302\u001b[0m                     \u001b[0mapplied\u001b[0m \u001b[1;33m=\u001b[0m \u001b[0mb\u001b[0m\u001b[1;33m.\u001b[0m\u001b[0mapply\u001b[0m\u001b[1;33m(\u001b[0m\u001b[0mf\u001b[0m\u001b[1;33m,\u001b[0m \u001b[1;33m**\u001b[0m\u001b[0mkwargs\u001b[0m\u001b[1;33m)\u001b[0m\u001b[1;33m\u001b[0m\u001b[1;33m\u001b[0m\u001b[0m\n\u001b[0;32m    303\u001b[0m                 \u001b[1;32melse\u001b[0m\u001b[1;33m:\u001b[0m\u001b[1;33m\u001b[0m\u001b[1;33m\u001b[0m\u001b[0m\n\u001b[1;32m--> 304\u001b[1;33m                     \u001b[0mapplied\u001b[0m \u001b[1;33m=\u001b[0m \u001b[0mgetattr\u001b[0m\u001b[1;33m(\u001b[0m\u001b[0mb\u001b[0m\u001b[1;33m,\u001b[0m \u001b[0mf\u001b[0m\u001b[1;33m)\u001b[0m\u001b[1;33m(\u001b[0m\u001b[1;33m**\u001b[0m\u001b[0mkwargs\u001b[0m\u001b[1;33m)\u001b[0m\u001b[1;33m\u001b[0m\u001b[1;33m\u001b[0m\u001b[0m\n\u001b[0m\u001b[0;32m    305\u001b[0m             \u001b[1;32mexcept\u001b[0m \u001b[1;33m(\u001b[0m\u001b[0mTypeError\u001b[0m\u001b[1;33m,\u001b[0m \u001b[0mNotImplementedError\u001b[0m\u001b[1;33m)\u001b[0m\u001b[1;33m:\u001b[0m\u001b[1;33m\u001b[0m\u001b[1;33m\u001b[0m\u001b[0m\n\u001b[0;32m    306\u001b[0m                 \u001b[1;32mif\u001b[0m \u001b[1;32mnot\u001b[0m \u001b[0mignore_failures\u001b[0m\u001b[1;33m:\u001b[0m\u001b[1;33m\u001b[0m\u001b[1;33m\u001b[0m\u001b[0m\n",
      "\u001b[1;32m~\\anaconda3\\lib\\site-packages\\pandas\\core\\internals\\blocks.py\u001b[0m in \u001b[0;36mastype\u001b[1;34m(self, dtype, copy, errors)\u001b[0m\n\u001b[0;32m    578\u001b[0m         \u001b[0mvalues\u001b[0m \u001b[1;33m=\u001b[0m \u001b[0mself\u001b[0m\u001b[1;33m.\u001b[0m\u001b[0mvalues\u001b[0m\u001b[1;33m\u001b[0m\u001b[1;33m\u001b[0m\u001b[0m\n\u001b[0;32m    579\u001b[0m \u001b[1;33m\u001b[0m\u001b[0m\n\u001b[1;32m--> 580\u001b[1;33m         \u001b[0mnew_values\u001b[0m \u001b[1;33m=\u001b[0m \u001b[0mastype_array_safe\u001b[0m\u001b[1;33m(\u001b[0m\u001b[0mvalues\u001b[0m\u001b[1;33m,\u001b[0m \u001b[0mdtype\u001b[0m\u001b[1;33m,\u001b[0m \u001b[0mcopy\u001b[0m\u001b[1;33m=\u001b[0m\u001b[0mcopy\u001b[0m\u001b[1;33m,\u001b[0m \u001b[0merrors\u001b[0m\u001b[1;33m=\u001b[0m\u001b[0merrors\u001b[0m\u001b[1;33m)\u001b[0m\u001b[1;33m\u001b[0m\u001b[1;33m\u001b[0m\u001b[0m\n\u001b[0m\u001b[0;32m    581\u001b[0m \u001b[1;33m\u001b[0m\u001b[0m\n\u001b[0;32m    582\u001b[0m         \u001b[0mnew_values\u001b[0m \u001b[1;33m=\u001b[0m \u001b[0mmaybe_coerce_values\u001b[0m\u001b[1;33m(\u001b[0m\u001b[0mnew_values\u001b[0m\u001b[1;33m)\u001b[0m\u001b[1;33m\u001b[0m\u001b[1;33m\u001b[0m\u001b[0m\n",
      "\u001b[1;32m~\\anaconda3\\lib\\site-packages\\pandas\\core\\dtypes\\cast.py\u001b[0m in \u001b[0;36mastype_array_safe\u001b[1;34m(values, dtype, copy, errors)\u001b[0m\n\u001b[0;32m   1290\u001b[0m \u001b[1;33m\u001b[0m\u001b[0m\n\u001b[0;32m   1291\u001b[0m     \u001b[1;32mtry\u001b[0m\u001b[1;33m:\u001b[0m\u001b[1;33m\u001b[0m\u001b[1;33m\u001b[0m\u001b[0m\n\u001b[1;32m-> 1292\u001b[1;33m         \u001b[0mnew_values\u001b[0m \u001b[1;33m=\u001b[0m \u001b[0mastype_array\u001b[0m\u001b[1;33m(\u001b[0m\u001b[0mvalues\u001b[0m\u001b[1;33m,\u001b[0m \u001b[0mdtype\u001b[0m\u001b[1;33m,\u001b[0m \u001b[0mcopy\u001b[0m\u001b[1;33m=\u001b[0m\u001b[0mcopy\u001b[0m\u001b[1;33m)\u001b[0m\u001b[1;33m\u001b[0m\u001b[1;33m\u001b[0m\u001b[0m\n\u001b[0m\u001b[0;32m   1293\u001b[0m     \u001b[1;32mexcept\u001b[0m \u001b[1;33m(\u001b[0m\u001b[0mValueError\u001b[0m\u001b[1;33m,\u001b[0m \u001b[0mTypeError\u001b[0m\u001b[1;33m)\u001b[0m\u001b[1;33m:\u001b[0m\u001b[1;33m\u001b[0m\u001b[1;33m\u001b[0m\u001b[0m\n\u001b[0;32m   1294\u001b[0m         \u001b[1;31m# e.g. astype_nansafe can fail on object-dtype of strings\u001b[0m\u001b[1;33m\u001b[0m\u001b[1;33m\u001b[0m\u001b[1;33m\u001b[0m\u001b[0m\n",
      "\u001b[1;32m~\\anaconda3\\lib\\site-packages\\pandas\\core\\dtypes\\cast.py\u001b[0m in \u001b[0;36mastype_array\u001b[1;34m(values, dtype, copy)\u001b[0m\n\u001b[0;32m   1235\u001b[0m \u001b[1;33m\u001b[0m\u001b[0m\n\u001b[0;32m   1236\u001b[0m     \u001b[1;32melse\u001b[0m\u001b[1;33m:\u001b[0m\u001b[1;33m\u001b[0m\u001b[1;33m\u001b[0m\u001b[0m\n\u001b[1;32m-> 1237\u001b[1;33m         \u001b[0mvalues\u001b[0m \u001b[1;33m=\u001b[0m \u001b[0mastype_nansafe\u001b[0m\u001b[1;33m(\u001b[0m\u001b[0mvalues\u001b[0m\u001b[1;33m,\u001b[0m \u001b[0mdtype\u001b[0m\u001b[1;33m,\u001b[0m \u001b[0mcopy\u001b[0m\u001b[1;33m=\u001b[0m\u001b[0mcopy\u001b[0m\u001b[1;33m)\u001b[0m\u001b[1;33m\u001b[0m\u001b[1;33m\u001b[0m\u001b[0m\n\u001b[0m\u001b[0;32m   1238\u001b[0m \u001b[1;33m\u001b[0m\u001b[0m\n\u001b[0;32m   1239\u001b[0m     \u001b[1;31m# in pandas we don't store numpy str dtypes, so convert to object\u001b[0m\u001b[1;33m\u001b[0m\u001b[1;33m\u001b[0m\u001b[1;33m\u001b[0m\u001b[0m\n",
      "\u001b[1;32m~\\anaconda3\\lib\\site-packages\\pandas\\core\\dtypes\\cast.py\u001b[0m in \u001b[0;36mastype_nansafe\u001b[1;34m(arr, dtype, copy, skipna)\u001b[0m\n\u001b[0;32m   1179\u001b[0m     \u001b[1;32mif\u001b[0m \u001b[0mcopy\u001b[0m \u001b[1;32mor\u001b[0m \u001b[0mis_object_dtype\u001b[0m\u001b[1;33m(\u001b[0m\u001b[0marr\u001b[0m\u001b[1;33m.\u001b[0m\u001b[0mdtype\u001b[0m\u001b[1;33m)\u001b[0m \u001b[1;32mor\u001b[0m \u001b[0mis_object_dtype\u001b[0m\u001b[1;33m(\u001b[0m\u001b[0mdtype\u001b[0m\u001b[1;33m)\u001b[0m\u001b[1;33m:\u001b[0m\u001b[1;33m\u001b[0m\u001b[1;33m\u001b[0m\u001b[0m\n\u001b[0;32m   1180\u001b[0m         \u001b[1;31m# Explicit copy, or required since NumPy can't view from / to object.\u001b[0m\u001b[1;33m\u001b[0m\u001b[1;33m\u001b[0m\u001b[1;33m\u001b[0m\u001b[0m\n\u001b[1;32m-> 1181\u001b[1;33m         \u001b[1;32mreturn\u001b[0m \u001b[0marr\u001b[0m\u001b[1;33m.\u001b[0m\u001b[0mastype\u001b[0m\u001b[1;33m(\u001b[0m\u001b[0mdtype\u001b[0m\u001b[1;33m,\u001b[0m \u001b[0mcopy\u001b[0m\u001b[1;33m=\u001b[0m\u001b[1;32mTrue\u001b[0m\u001b[1;33m)\u001b[0m\u001b[1;33m\u001b[0m\u001b[1;33m\u001b[0m\u001b[0m\n\u001b[0m\u001b[0;32m   1182\u001b[0m \u001b[1;33m\u001b[0m\u001b[0m\n\u001b[0;32m   1183\u001b[0m     \u001b[1;32mreturn\u001b[0m \u001b[0marr\u001b[0m\u001b[1;33m.\u001b[0m\u001b[0mastype\u001b[0m\u001b[1;33m(\u001b[0m\u001b[0mdtype\u001b[0m\u001b[1;33m,\u001b[0m \u001b[0mcopy\u001b[0m\u001b[1;33m=\u001b[0m\u001b[0mcopy\u001b[0m\u001b[1;33m)\u001b[0m\u001b[1;33m\u001b[0m\u001b[1;33m\u001b[0m\u001b[0m\n",
      "\u001b[1;31mValueError\u001b[0m: could not convert string to float: '12.5-12.7 '"
     ]
    }
   ],
   "source": [
    "df1.City_Mileage=df1.City_Mileage.str.replace('?','')\n",
    "df1.City_Mileage=df1.City_Mileage.str.replace('km/litre','')\n",
    "df1.City_Mileage=df1.City_Mileage.str.replace(',','')\n",
    "df1.City_Mileage=df1.City_Mileage.str.replace(',','').astype(float)\n",
    "df1.City_Mileage=df1.City_Mileage.split('\\d{2}\\S\\d+\\s','\\d{2}\\.\\d+\\s','12.5-12.7 ',\n",
    "regex=True,inplace=True)\n",
    "df1.City_Mileage=df1.City_Mileage.astype(float)\n",
    "# df1[\"City_Mileage\"] = df1.City_Mileage.replace(\"\\'\\d+\\.\\d\\-\\d+\\.\\d\\s\\'\", \n"
   ]
  },
  {
   "cell_type": "code",
   "execution_count": 15,
   "id": "9e15dd00",
   "metadata": {},
   "outputs": [
    {
     "data": {
      "text/plain": [
       "-0.1999999999999993"
      ]
     },
     "execution_count": 15,
     "metadata": {},
     "output_type": "execute_result"
    }
   ],
   "source": [
    "s=12.5-12.7\n",
    "s"
   ]
  },
  {
   "cell_type": "code",
   "execution_count": 16,
   "id": "efd8f37c",
   "metadata": {},
   "outputs": [
    {
     "data": {
      "text/plain": [
       "0       23.6 \n",
       "1       23.6 \n",
       "2         NaN\n",
       "3       23.6 \n",
       "4       23.6 \n",
       "        ...  \n",
       "1262      NaN\n",
       "1263      NaN\n",
       "1264      NaN\n",
       "1265      NaN\n",
       "1266      NaN\n",
       "Name: City_Mileage, Length: 1267, dtype: object"
      ]
     },
     "execution_count": 16,
     "metadata": {},
     "output_type": "execute_result"
    }
   ],
   "source": [
    "df1.City_Mileage"
   ]
  },
  {
   "cell_type": "code",
   "execution_count": 46,
   "id": "3258c555",
   "metadata": {},
   "outputs": [
    {
     "data": {
      "text/plain": [
       "Make                                0\n",
       "Model                               0\n",
       "Variant                             0\n",
       "Ex-Showroom_Price                   0\n",
       "Displacement                        0\n",
       "Cylinders                           0\n",
       "Valves_Per_Cylinder                 0\n",
       "Drivetrain                          0\n",
       "Cylinder_Configuration              0\n",
       "Emission_Norm                       0\n",
       "Engine_Location                     0\n",
       "Fuel_System                         0\n",
       "Fuel_Tank_Capacity                  0\n",
       "Fuel_Type                           0\n",
       "Engine_Type                         0\n",
       "Battery                             0\n",
       "Electric_Range                      0\n",
       "City_Mileage                      554\n",
       "Highway_Mileage                     0\n",
       "ARAI_Certified_Mileage              0\n",
       "ARAI_Certified_Mileage_for_CNG      0\n",
       "dtype: int64"
      ]
     },
     "execution_count": 46,
     "metadata": {},
     "output_type": "execute_result"
    }
   ],
   "source": [
    "df1.isnull().sum()"
   ]
  },
  {
   "cell_type": "code",
   "execution_count": 47,
   "id": "59c5d397",
   "metadata": {},
   "outputs": [
    {
     "data": {
      "text/plain": [
       "Make                              0.059195\n",
       "Model                             0.000000\n",
       "Variant                           0.000000\n",
       "Ex-Showroom_Price                 0.000000\n",
       "Displacement                      0.009471\n",
       "Drivetrain                        0.005525\n",
       "Cylinder_Configuration            0.010260\n",
       "Emission_Norm                     0.008682\n",
       "Engine_Location                   0.033938\n",
       "Fuel_System                       0.006314\n",
       "Fuel_Tank_Capacity                0.055249\n",
       "Fuel_Type                         0.000000\n",
       "Engine_Type                       0.973165\n",
       "Battery                           0.989740\n",
       "Electric_Range                    0.986582\n",
       "City_Mileage                      0.437253\n",
       "Highway_Mileage                   0.625099\n",
       "ARAI_Certified_Mileage            0.091555\n",
       "ARAI_Certified_Mileage_for_CNG    0.978690\n",
       "dtype: float64"
      ]
     },
     "execution_count": 47,
     "metadata": {},
     "output_type": "execute_result"
    }
   ],
   "source": [
    "pct_null = df1_cat.isnull().sum() / len(df1_cat)\n",
    "pct_null"
   ]
  },
  {
   "cell_type": "code",
   "execution_count": 50,
   "id": "e3d83411",
   "metadata": {},
   "outputs": [
    {
     "data": {
      "text/plain": [
       "0       23.6 km/litre\n",
       "1       23.6 km/litre\n",
       "2                 NaN\n",
       "3       23.6 km/litre\n",
       "4       23.6 km/litre\n",
       "            ...      \n",
       "1262              NaN\n",
       "1263              NaN\n",
       "1264              NaN\n",
       "1265              NaN\n",
       "1266              NaN\n",
       "Name: City_Mileage, Length: 1267, dtype: object"
      ]
     },
     "execution_count": 50,
     "metadata": {},
     "output_type": "execute_result"
    }
   ],
   "source": [
    "df1.City_Mileage.interpolate(method ='linear', limit_direction ='forward')"
   ]
  },
  {
   "cell_type": "code",
   "execution_count": 49,
   "id": "d42e19df",
   "metadata": {},
   "outputs": [
    {
     "data": {
      "text/plain": [
       "(1267, 21)"
      ]
     },
     "execution_count": 49,
     "metadata": {},
     "output_type": "execute_result"
    }
   ],
   "source": [
    "df1.shape"
   ]
  },
  {
   "cell_type": "code",
   "execution_count": 15,
   "id": "59b8018d",
   "metadata": {},
   "outputs": [
    {
     "name": "stdout",
     "output_type": "stream",
     "text": [
      "['Make', 'Model', 'Variant', 'Ex-Showroom_Price', 'Displacement', 'Cylinders', 'Valves_Per_Cylinder', 'Drivetrain', 'Cylinder_Configuration', 'Emission_Norm', 'Engine_Location', 'Fuel_System', 'Fuel_Tank_Capacity', 'Fuel_Type', 'Engine_Type', 'Battery', 'Electric_Range', 'City_Mileage', 'Highway_Mileage', 'ARAI_Certified_Mileage', 'ARAI_Certified_Mileage_for_CNG']\n"
     ]
    }
   ],
   "source": [
    "print(df1.columns.tolist())"
   ]
  },
  {
   "cell_type": "code",
   "execution_count": 16,
   "id": "7a53c00f",
   "metadata": {},
   "outputs": [
    {
     "data": {
      "text/html": [
       "<div>\n",
       "<style scoped>\n",
       "    .dataframe tbody tr th:only-of-type {\n",
       "        vertical-align: middle;\n",
       "    }\n",
       "\n",
       "    .dataframe tbody tr th {\n",
       "        vertical-align: top;\n",
       "    }\n",
       "\n",
       "    .dataframe thead th {\n",
       "        text-align: right;\n",
       "    }\n",
       "</style>\n",
       "<table border=\"1\" class=\"dataframe\">\n",
       "  <thead>\n",
       "    <tr style=\"text-align: right;\">\n",
       "      <th></th>\n",
       "      <th>Make</th>\n",
       "      <th>Model</th>\n",
       "      <th>Variant</th>\n",
       "      <th>Ex-Showroom_Price</th>\n",
       "      <th>Displacement</th>\n",
       "      <th>Cylinders</th>\n",
       "      <th>Valves_Per_Cylinder</th>\n",
       "      <th>Drivetrain</th>\n",
       "      <th>Cylinder_Configuration</th>\n",
       "      <th>Emission_Norm</th>\n",
       "      <th>...</th>\n",
       "      <th>Fuel_System</th>\n",
       "      <th>Fuel_Tank_Capacity</th>\n",
       "      <th>Fuel_Type</th>\n",
       "      <th>Engine_Type</th>\n",
       "      <th>Battery</th>\n",
       "      <th>Electric_Range</th>\n",
       "      <th>City_Mileage</th>\n",
       "      <th>Highway_Mileage</th>\n",
       "      <th>ARAI_Certified_Mileage</th>\n",
       "      <th>ARAI_Certified_Mileage_for_CNG</th>\n",
       "    </tr>\n",
       "  </thead>\n",
       "  <tbody>\n",
       "    <tr>\n",
       "      <th>0</th>\n",
       "      <td>Tata</td>\n",
       "      <td>Nano Genx</td>\n",
       "      <td>Xt</td>\n",
       "      <td>Rs. 2,92,667</td>\n",
       "      <td>624 cc</td>\n",
       "      <td>2.0</td>\n",
       "      <td>2.0</td>\n",
       "      <td>RWD (Rear Wheel Drive)</td>\n",
       "      <td>In-line</td>\n",
       "      <td>BS IV</td>\n",
       "      <td>...</td>\n",
       "      <td>Injection</td>\n",
       "      <td>24 litres</td>\n",
       "      <td>Petrol</td>\n",
       "      <td>NaN</td>\n",
       "      <td>NaN</td>\n",
       "      <td>NaN</td>\n",
       "      <td>?23.6 km/litre</td>\n",
       "      <td>NaN</td>\n",
       "      <td>23.6 km/litre</td>\n",
       "      <td>NaN</td>\n",
       "    </tr>\n",
       "    <tr>\n",
       "      <th>1</th>\n",
       "      <td>Tata</td>\n",
       "      <td>Nano Genx</td>\n",
       "      <td>Xe</td>\n",
       "      <td>Rs. 2,36,447</td>\n",
       "      <td>624 cc</td>\n",
       "      <td>2.0</td>\n",
       "      <td>2.0</td>\n",
       "      <td>RWD (Rear Wheel Drive)</td>\n",
       "      <td>In-line</td>\n",
       "      <td>BS IV</td>\n",
       "      <td>...</td>\n",
       "      <td>Injection</td>\n",
       "      <td>24 litres</td>\n",
       "      <td>Petrol</td>\n",
       "      <td>NaN</td>\n",
       "      <td>NaN</td>\n",
       "      <td>NaN</td>\n",
       "      <td>?23.6 km/litre</td>\n",
       "      <td>NaN</td>\n",
       "      <td>23.6 km/litre</td>\n",
       "      <td>NaN</td>\n",
       "    </tr>\n",
       "    <tr>\n",
       "      <th>2</th>\n",
       "      <td>Tata</td>\n",
       "      <td>Nano Genx</td>\n",
       "      <td>Emax Xm</td>\n",
       "      <td>Rs. 2,96,661</td>\n",
       "      <td>624 cc</td>\n",
       "      <td>2.0</td>\n",
       "      <td>2.0</td>\n",
       "      <td>RWD (Rear Wheel Drive)</td>\n",
       "      <td>In-line</td>\n",
       "      <td>BS IV</td>\n",
       "      <td>...</td>\n",
       "      <td>Injection</td>\n",
       "      <td>15 litres</td>\n",
       "      <td>CNG</td>\n",
       "      <td>NaN</td>\n",
       "      <td>NaN</td>\n",
       "      <td>NaN</td>\n",
       "      <td>NaN</td>\n",
       "      <td>NaN</td>\n",
       "      <td>NaN</td>\n",
       "      <td>36 km/kg</td>\n",
       "    </tr>\n",
       "    <tr>\n",
       "      <th>3</th>\n",
       "      <td>Tata</td>\n",
       "      <td>Nano Genx</td>\n",
       "      <td>Xta</td>\n",
       "      <td>Rs. 3,34,768</td>\n",
       "      <td>624 cc</td>\n",
       "      <td>2.0</td>\n",
       "      <td>2.0</td>\n",
       "      <td>RWD (Rear Wheel Drive)</td>\n",
       "      <td>In-line</td>\n",
       "      <td>BS IV</td>\n",
       "      <td>...</td>\n",
       "      <td>Injection</td>\n",
       "      <td>24 litres</td>\n",
       "      <td>Petrol</td>\n",
       "      <td>NaN</td>\n",
       "      <td>NaN</td>\n",
       "      <td>NaN</td>\n",
       "      <td>?23.6 km/litre</td>\n",
       "      <td>NaN</td>\n",
       "      <td>21.9 km/litre</td>\n",
       "      <td>NaN</td>\n",
       "    </tr>\n",
       "    <tr>\n",
       "      <th>4</th>\n",
       "      <td>Tata</td>\n",
       "      <td>Nano Genx</td>\n",
       "      <td>Xm</td>\n",
       "      <td>Rs. 2,72,223</td>\n",
       "      <td>624 cc</td>\n",
       "      <td>2.0</td>\n",
       "      <td>2.0</td>\n",
       "      <td>RWD (Rear Wheel Drive)</td>\n",
       "      <td>In-line</td>\n",
       "      <td>BS IV</td>\n",
       "      <td>...</td>\n",
       "      <td>Injection</td>\n",
       "      <td>24 litres</td>\n",
       "      <td>Petrol</td>\n",
       "      <td>NaN</td>\n",
       "      <td>NaN</td>\n",
       "      <td>NaN</td>\n",
       "      <td>?23.6 km/litre</td>\n",
       "      <td>NaN</td>\n",
       "      <td>23.6 km/litre</td>\n",
       "      <td>NaN</td>\n",
       "    </tr>\n",
       "    <tr>\n",
       "      <th>...</th>\n",
       "      <td>...</td>\n",
       "      <td>...</td>\n",
       "      <td>...</td>\n",
       "      <td>...</td>\n",
       "      <td>...</td>\n",
       "      <td>...</td>\n",
       "      <td>...</td>\n",
       "      <td>...</td>\n",
       "      <td>...</td>\n",
       "      <td>...</td>\n",
       "      <td>...</td>\n",
       "      <td>...</td>\n",
       "      <td>...</td>\n",
       "      <td>...</td>\n",
       "      <td>...</td>\n",
       "      <td>...</td>\n",
       "      <td>...</td>\n",
       "      <td>...</td>\n",
       "      <td>...</td>\n",
       "      <td>...</td>\n",
       "      <td>...</td>\n",
       "    </tr>\n",
       "    <tr>\n",
       "      <th>1262</th>\n",
       "      <td>Bmw</td>\n",
       "      <td>X5</td>\n",
       "      <td>Xdrive30D Xline</td>\n",
       "      <td>Rs. 82,90,000</td>\n",
       "      <td>2993 cc</td>\n",
       "      <td>6.0</td>\n",
       "      <td>4.0</td>\n",
       "      <td>AWD (All Wheel Drive)</td>\n",
       "      <td>In-line</td>\n",
       "      <td>BS IV</td>\n",
       "      <td>...</td>\n",
       "      <td>Injection</td>\n",
       "      <td>NaN</td>\n",
       "      <td>Diesel</td>\n",
       "      <td>NaN</td>\n",
       "      <td>NaN</td>\n",
       "      <td>NaN</td>\n",
       "      <td>NaN</td>\n",
       "      <td>NaN</td>\n",
       "      <td>13.38 km/litre</td>\n",
       "      <td>NaN</td>\n",
       "    </tr>\n",
       "    <tr>\n",
       "      <th>1263</th>\n",
       "      <td>Bmw</td>\n",
       "      <td>X5</td>\n",
       "      <td>Xdrive40I M Sport</td>\n",
       "      <td>Rs. 82,90,000</td>\n",
       "      <td>2998 cc</td>\n",
       "      <td>6.0</td>\n",
       "      <td>4.0</td>\n",
       "      <td>AWD (All Wheel Drive)</td>\n",
       "      <td>In-line</td>\n",
       "      <td>BS IV</td>\n",
       "      <td>...</td>\n",
       "      <td>Injection</td>\n",
       "      <td>NaN</td>\n",
       "      <td>Petrol</td>\n",
       "      <td>NaN</td>\n",
       "      <td>NaN</td>\n",
       "      <td>NaN</td>\n",
       "      <td>NaN</td>\n",
       "      <td>NaN</td>\n",
       "      <td>11.24 km/litre</td>\n",
       "      <td>NaN</td>\n",
       "    </tr>\n",
       "    <tr>\n",
       "      <th>1264</th>\n",
       "      <td>Mahindra</td>\n",
       "      <td>Alturas G4</td>\n",
       "      <td>2Wd At</td>\n",
       "      <td>Rs. 27,70,150</td>\n",
       "      <td>2157 cc</td>\n",
       "      <td>4.0</td>\n",
       "      <td>NaN</td>\n",
       "      <td>FWD (Front Wheel Drive)</td>\n",
       "      <td>In-line</td>\n",
       "      <td>BS IV</td>\n",
       "      <td>...</td>\n",
       "      <td>Injection</td>\n",
       "      <td>70 litres</td>\n",
       "      <td>Diesel</td>\n",
       "      <td>NaN</td>\n",
       "      <td>NaN</td>\n",
       "      <td>NaN</td>\n",
       "      <td>NaN</td>\n",
       "      <td>NaN</td>\n",
       "      <td>12.35 km/litre</td>\n",
       "      <td>NaN</td>\n",
       "    </tr>\n",
       "    <tr>\n",
       "      <th>1265</th>\n",
       "      <td>Mahindra</td>\n",
       "      <td>Alturas G4</td>\n",
       "      <td>4Wd At</td>\n",
       "      <td>Rs. 30,70,150</td>\n",
       "      <td>2157 cc</td>\n",
       "      <td>4.0</td>\n",
       "      <td>4.0</td>\n",
       "      <td>4WD</td>\n",
       "      <td>In-line</td>\n",
       "      <td>NaN</td>\n",
       "      <td>...</td>\n",
       "      <td>Injection</td>\n",
       "      <td>70 litres</td>\n",
       "      <td>Diesel</td>\n",
       "      <td>NaN</td>\n",
       "      <td>NaN</td>\n",
       "      <td>NaN</td>\n",
       "      <td>NaN</td>\n",
       "      <td>NaN</td>\n",
       "      <td>12.05 km/litre</td>\n",
       "      <td>NaN</td>\n",
       "    </tr>\n",
       "    <tr>\n",
       "      <th>1266</th>\n",
       "      <td>Ferrari</td>\n",
       "      <td>812 Superfast</td>\n",
       "      <td>Superfast</td>\n",
       "      <td>Rs. 5,20,00,000</td>\n",
       "      <td>6496 cc</td>\n",
       "      <td>12.0</td>\n",
       "      <td>NaN</td>\n",
       "      <td>AWD (All Wheel Drive)</td>\n",
       "      <td>V</td>\n",
       "      <td>BS IV</td>\n",
       "      <td>...</td>\n",
       "      <td>Injection</td>\n",
       "      <td>92 litres</td>\n",
       "      <td>Petrol</td>\n",
       "      <td>NaN</td>\n",
       "      <td>NaN</td>\n",
       "      <td>NaN</td>\n",
       "      <td>NaN</td>\n",
       "      <td>NaN</td>\n",
       "      <td>14.9 km/litre</td>\n",
       "      <td>NaN</td>\n",
       "    </tr>\n",
       "  </tbody>\n",
       "</table>\n",
       "<p>1267 rows × 21 columns</p>\n",
       "</div>"
      ],
      "text/plain": [
       "          Make          Model            Variant Ex-Showroom_Price  \\\n",
       "0         Tata      Nano Genx                 Xt      Rs. 2,92,667   \n",
       "1         Tata      Nano Genx                 Xe      Rs. 2,36,447   \n",
       "2         Tata      Nano Genx            Emax Xm      Rs. 2,96,661   \n",
       "3         Tata      Nano Genx                Xta      Rs. 3,34,768   \n",
       "4         Tata      Nano Genx                 Xm      Rs. 2,72,223   \n",
       "...        ...            ...                ...               ...   \n",
       "1262       Bmw             X5    Xdrive30D Xline     Rs. 82,90,000   \n",
       "1263       Bmw             X5  Xdrive40I M Sport     Rs. 82,90,000   \n",
       "1264  Mahindra     Alturas G4             2Wd At     Rs. 27,70,150   \n",
       "1265  Mahindra     Alturas G4             4Wd At     Rs. 30,70,150   \n",
       "1266   Ferrari  812 Superfast          Superfast   Rs. 5,20,00,000   \n",
       "\n",
       "     Displacement  Cylinders  Valves_Per_Cylinder               Drivetrain  \\\n",
       "0          624 cc        2.0                  2.0   RWD (Rear Wheel Drive)   \n",
       "1          624 cc        2.0                  2.0   RWD (Rear Wheel Drive)   \n",
       "2          624 cc        2.0                  2.0   RWD (Rear Wheel Drive)   \n",
       "3          624 cc        2.0                  2.0   RWD (Rear Wheel Drive)   \n",
       "4          624 cc        2.0                  2.0   RWD (Rear Wheel Drive)   \n",
       "...           ...        ...                  ...                      ...   \n",
       "1262      2993 cc        6.0                  4.0    AWD (All Wheel Drive)   \n",
       "1263      2998 cc        6.0                  4.0    AWD (All Wheel Drive)   \n",
       "1264      2157 cc        4.0                  NaN  FWD (Front Wheel Drive)   \n",
       "1265      2157 cc        4.0                  4.0                      4WD   \n",
       "1266      6496 cc       12.0                  NaN    AWD (All Wheel Drive)   \n",
       "\n",
       "     Cylinder_Configuration Emission_Norm  ... Fuel_System Fuel_Tank_Capacity  \\\n",
       "0                   In-line         BS IV  ...   Injection          24 litres   \n",
       "1                   In-line         BS IV  ...   Injection          24 litres   \n",
       "2                   In-line         BS IV  ...   Injection          15 litres   \n",
       "3                   In-line         BS IV  ...   Injection          24 litres   \n",
       "4                   In-line         BS IV  ...   Injection          24 litres   \n",
       "...                     ...           ...  ...         ...                ...   \n",
       "1262                In-line         BS IV  ...   Injection                NaN   \n",
       "1263                In-line         BS IV  ...   Injection                NaN   \n",
       "1264                In-line         BS IV  ...   Injection          70 litres   \n",
       "1265                In-line           NaN  ...   Injection          70 litres   \n",
       "1266                      V         BS IV  ...   Injection          92 litres   \n",
       "\n",
       "     Fuel_Type Engine_Type Battery Electric_Range    City_Mileage  \\\n",
       "0       Petrol         NaN     NaN            NaN  ?23.6 km/litre   \n",
       "1       Petrol         NaN     NaN            NaN  ?23.6 km/litre   \n",
       "2          CNG         NaN     NaN            NaN             NaN   \n",
       "3       Petrol         NaN     NaN            NaN  ?23.6 km/litre   \n",
       "4       Petrol         NaN     NaN            NaN  ?23.6 km/litre   \n",
       "...        ...         ...     ...            ...             ...   \n",
       "1262    Diesel         NaN     NaN            NaN             NaN   \n",
       "1263    Petrol         NaN     NaN            NaN             NaN   \n",
       "1264    Diesel         NaN     NaN            NaN             NaN   \n",
       "1265    Diesel         NaN     NaN            NaN             NaN   \n",
       "1266    Petrol         NaN     NaN            NaN             NaN   \n",
       "\n",
       "     Highway_Mileage ARAI_Certified_Mileage ARAI_Certified_Mileage_for_CNG  \n",
       "0                NaN          23.6 km/litre                            NaN  \n",
       "1                NaN          23.6 km/litre                            NaN  \n",
       "2                NaN                    NaN                       36 km/kg  \n",
       "3                NaN          21.9 km/litre                            NaN  \n",
       "4                NaN          23.6 km/litre                            NaN  \n",
       "...              ...                    ...                            ...  \n",
       "1262             NaN         13.38 km/litre                            NaN  \n",
       "1263             NaN         11.24 km/litre                            NaN  \n",
       "1264             NaN         12.35 km/litre                            NaN  \n",
       "1265             NaN         12.05 km/litre                            NaN  \n",
       "1266             NaN          14.9 km/litre                            NaN  \n",
       "\n",
       "[1267 rows x 21 columns]"
      ]
     },
     "execution_count": 16,
     "metadata": {},
     "output_type": "execute_result"
    }
   ],
   "source": [
    "df1"
   ]
  },
  {
   "cell_type": "code",
   "execution_count": 17,
   "id": "8cef78cc",
   "metadata": {},
   "outputs": [
    {
     "data": {
      "text/html": [
       "<div>\n",
       "<style scoped>\n",
       "    .dataframe tbody tr th:only-of-type {\n",
       "        vertical-align: middle;\n",
       "    }\n",
       "\n",
       "    .dataframe tbody tr th {\n",
       "        vertical-align: top;\n",
       "    }\n",
       "\n",
       "    .dataframe thead th {\n",
       "        text-align: right;\n",
       "    }\n",
       "</style>\n",
       "<table border=\"1\" class=\"dataframe\">\n",
       "  <thead>\n",
       "    <tr style=\"text-align: right;\">\n",
       "      <th></th>\n",
       "      <th>Cylinders</th>\n",
       "      <th>Valves_Per_Cylinder</th>\n",
       "    </tr>\n",
       "  </thead>\n",
       "  <tbody>\n",
       "    <tr>\n",
       "      <th>count</th>\n",
       "      <td>1201.000000</td>\n",
       "      <td>1165.000000</td>\n",
       "    </tr>\n",
       "    <tr>\n",
       "      <th>mean</th>\n",
       "      <td>4.382182</td>\n",
       "      <td>3.977682</td>\n",
       "    </tr>\n",
       "    <tr>\n",
       "      <th>std</th>\n",
       "      <td>1.667728</td>\n",
       "      <td>0.836978</td>\n",
       "    </tr>\n",
       "    <tr>\n",
       "      <th>min</th>\n",
       "      <td>2.000000</td>\n",
       "      <td>1.000000</td>\n",
       "    </tr>\n",
       "    <tr>\n",
       "      <th>25%</th>\n",
       "      <td>4.000000</td>\n",
       "      <td>4.000000</td>\n",
       "    </tr>\n",
       "    <tr>\n",
       "      <th>50%</th>\n",
       "      <td>4.000000</td>\n",
       "      <td>4.000000</td>\n",
       "    </tr>\n",
       "    <tr>\n",
       "      <th>75%</th>\n",
       "      <td>4.000000</td>\n",
       "      <td>4.000000</td>\n",
       "    </tr>\n",
       "    <tr>\n",
       "      <th>max</th>\n",
       "      <td>16.000000</td>\n",
       "      <td>16.000000</td>\n",
       "    </tr>\n",
       "  </tbody>\n",
       "</table>\n",
       "</div>"
      ],
      "text/plain": [
       "         Cylinders  Valves_Per_Cylinder\n",
       "count  1201.000000          1165.000000\n",
       "mean      4.382182             3.977682\n",
       "std       1.667728             0.836978\n",
       "min       2.000000             1.000000\n",
       "25%       4.000000             4.000000\n",
       "50%       4.000000             4.000000\n",
       "75%       4.000000             4.000000\n",
       "max      16.000000            16.000000"
      ]
     },
     "execution_count": 17,
     "metadata": {},
     "output_type": "execute_result"
    }
   ],
   "source": [
    "df1.describe()"
   ]
  },
  {
   "cell_type": "code",
   "execution_count": 18,
   "id": "ff53a919",
   "metadata": {},
   "outputs": [
    {
     "data": {
      "text/plain": [
       "array(['Nano Genx', 'Redi-Go', 'Kwid', 'Eeco', 'Alto K10', 'Go',\n",
       "       'Celerio Tour', 'Santro', 'Tiago', 'Celerio X', 'Ignis', 'Triber',\n",
       "       'Rio', 'Etios Liva', 'Micra Active', 'Bolt', 'Xcent Prime',\n",
       "       'Dzire Tour', 'Elite I20', 'Aura', 'Polo', 'Dzire', 'Freestyle',\n",
       "       'Ameo', 'Aspire', 'Platinum Etios', 'Etios Cross', 'Verito Vibe',\n",
       "       'Urban Cross', 'Glanza', 'Avventura', 'Jazz', 'Bolero Power Plus',\n",
       "       'Vitara Brezza', 'I20 Active', 'Ecosport', 'Duster', 'Verna',\n",
       "       'Xuv300', 'Lodgy', 'Vento', 'E2O Plus', 'Tigor Ev', 'Brv', 'Thar',\n",
       "       'Gurkha', 'Xl6', 'Abarth Avventura', 'Tuv300 Plus', 'Marazzo',\n",
       "       'Scorpio', 'Monte Carlo', 'Xuv500', 'E Verito', 'Hexa',\n",
       "       'Innova Crysta', 'Compass', 'Corolla Altis', 'Civic', 'Zs Ev',\n",
       "       'Carnival', 'Superb', 'Outlander', 'V40', 'Mercedes-Benz A-Class',\n",
       "       'Fortuner', 'Pajero Sport', 'Endeavour', 'V40 Cross Country',\n",
       "       'Cooper 3 Door', 'Mercedes-Benz Gla-Class', 'Kodiaq Scout',\n",
       "       'Countryman', 'X1', 'Camry', 'S60', 'Mercedes-Benz C-Class',\n",
       "       '3-Series', 'Accord Hybrid', 'S60 Cross Country', 'Prius', 'Q5',\n",
       "       'Mercedes-Benz Glc', 'Range Evoque', 'Es', 'Mercedes-Benz E-Class',\n",
       "       '5-Series', 'Nx 300H', 'A5', 'F-Pace', '6-Series',\n",
       "       'V90 Cross Country', 'Montero', 'A5 Cabriolet', 'Macan',\n",
       "       'Range Velar', 'Mercedes-Benz Gle',\n",
       "       'Mercedes-Benz E-Class All Terrain', 'Discovery', 'Xc90',\n",
       "       'Mercedes-Benz Cls', 'Range Sport', 'F-Type', 'Xj', 'X7',\n",
       "       'Cayenne', 'Cayenne Coupe', 'Ghibli', 'M4', 'Land Cruiser', 'M5',\n",
       "       'Rs7', '911', 'Range', 'Lc 500H', 'Mercedes-Benz Maybach',\n",
       "       'Panamera', 'Lx 450D', 'Mercedes-Benz S-Class Cabriolet', 'R8',\n",
       "       'Urus', 'Continental Gt', 'Portofino', 'Bentayga', 'Db 11',\n",
       "       '458 Speciale', 'Rolls-Royce Ghost Series Ii',\n",
       "       'Rolls-Royce Wraith', 'Mulsanne', 'Rolls-Royce Cullinan',\n",
       "       'Rolls-Royce Phantom Coupe', 'Chiron', 'Qute (Re60)', 'Alto',\n",
       "       'S-Presso', 'Celerio', 'Grand I10 Prime', 'Kuv100 Nxt', 'Swift',\n",
       "       'Altroz', 'Extreme', 'Tigor', 'Zest', 'Amaze', 'Gypsy', 'Venue',\n",
       "       'Nexon', 'Linea', 'Ertiga', 'Baleno Rs', 'Wr-V', 'Tuv300',\n",
       "       'S-Cross', 'Captur', 'Xylo', 'Seltos', 'Terrano', 'Safari Storme',\n",
       "       'Hector', 'Nexon Ev', 'Elantra', 'Tucson', 'Passat', 'Mu-X',\n",
       "       'Tiguan', 'Superb Sportline', 'Mercedes-Benz B-Class', 'Kodiaq',\n",
       "       'Q3', 'Convertible', 'Clubman', 'John Cooper Works', 'Xf', 'A6',\n",
       "       'Discovery Sport', 'Xc60', 'Wrangler', 'Z4 Roadster', 'Q7', 'S5',\n",
       "       'Mustang', 'Mercedes-Benz E-Class Cabriolet', '718',\n",
       "       'Land Cruiser Prado', 'Rs5', 'Q8', 'Levante', 'A8 L',\n",
       "       'Quattroporte', 'Grancabrio', 'Mercedes-Benz Amg-Gt',\n",
       "       'Mercedes-Benz Amg Gt 4-Door Coupe', 'Huracan', '488 Gtb',\n",
       "       'Gtc4 Lusso', 'Aventador', 'Rolls-Royce Dawn',\n",
       "       'Rolls-Royce Drophead Coupe', 'Omni', 'Go+', 'Punto Evo Pure',\n",
       "       'Figo', 'Baleno', 'Grand I10', 'Linea Classic', 'Sunny', 'Bolero',\n",
       "       'Ciaz', 'Rapid', 'Abarth Punto', 'Creta', 'Harrier',\n",
       "       'Dmax V-Cross', 'Compass Trailhawk', 'Cr-V',\n",
       "       'Mercedes-Benz Cla-Class', 'Cooper 5 Door', 'A4', 'A3 Cabriolet',\n",
       "       'S90', 'Mercedes-Benz C-Class Cabriolet',\n",
       "       'Range Evoque Convertible', 'Grand Cherokee', 'Mercedes-Benz Gls',\n",
       "       '7-Series', 'Mercedes-Benz G-Class', 'Ls 500H', 'Lx 570',\n",
       "       'Flying Spur', '458 Spider', 'Rolls-Royce Phantom',\n",
       "       'Alto 800 Tour', 'Grand I10 Nios', 'Xcent', 'Micra', 'Nuvosport',\n",
       "       'Kicks', 'Winger', 'Kona Electric', 'A3', 'Xc40', 'X3',\n",
       "       'Mercedes-Benz V-Class', 'M2 Competition', 'Mercedes-Benz S-Class',\n",
       "       'Gtr', 'Rapide', 'Wagon', 'Tiago Nrg', 'Yaris', 'Octavia',\n",
       "       'Avanti', 'X4', 'Rx 450H', 'Vantage', 'Punto Evo', 'City', 'Xe',\n",
       "       'Granturismo', 'Verito', 'X5', 'Alturas G4', '812 Superfast'],\n",
       "      dtype=object)"
      ]
     },
     "execution_count": 18,
     "metadata": {},
     "output_type": "execute_result"
    }
   ],
   "source": [
    "df1.Model.unique()"
   ]
  },
  {
   "cell_type": "code",
   "execution_count": 19,
   "id": "832f3800",
   "metadata": {},
   "outputs": [
    {
     "data": {
      "text/plain": [
       "263"
      ]
     },
     "execution_count": 19,
     "metadata": {},
     "output_type": "execute_result"
    }
   ],
   "source": [
    "len(df1.Model.unique())"
   ]
  },
  {
   "cell_type": "code",
   "execution_count": 20,
   "id": "e39f586a",
   "metadata": {},
   "outputs": [
    {
     "data": {
      "text/plain": [
       "array(['624 cc', '799 cc', '999 cc', '1196 cc', '998 cc', '1198 cc',\n",
       "       '1086 cc', '1199 cc', '1197 cc', '1173 cc', '1489 cc', '1248 cc',\n",
       "       '1364 cc', '1193 cc', '1396 cc', '1186 cc', '1498 cc', '1194 cc',\n",
       "       '1496 cc', '1461 cc', '1368 cc', '1493 cc', '2523 cc', '1497 cc',\n",
       "       '1591 cc', '1582 cc', '1598 cc', nan, '2498 cc', '2596 cc',\n",
       "       '2149 cc', '1462 cc', '2179 cc', '72 cc', '2393 cc', '2694 cc',\n",
       "       '2755 cc', '1956 cc', '1798 cc', '1799 cc', '1597 cc', '2199 cc',\n",
       "       '1968 cc', '2360 cc', '1984 cc', '1595 cc', '2143 cc', '2477 cc',\n",
       "       '3198 cc', '2198 cc', '1596 cc', '1998 cc', '1991 cc', '1995 cc',\n",
       "       '2487 cc', '1969 cc', '1950 cc', '3982 cc', '1993 cc', '2400 cc',\n",
       "       '1999 cc', '1997 cc', '2987 cc', '5461 cc', '2993 cc', '2494 cc',\n",
       "       '4395 cc', '3200 cc', '2995 cc', '2925 cc', '4999 cc', '4367 cc',\n",
       "       '5000 cc', '2998 cc', '3996 cc', '2979 cc', '4461 cc', '3993 cc',\n",
       "       '2981 cc', '3456 cc', '5980 cc', '4663 cc', '5204 cc', '5998 cc',\n",
       "       '3855 cc', '5950 cc', '5198 cc', '4497 cc', '6593 cc', '6592 cc',\n",
       "       '6752 cc', '6750 cc', '6749 cc', '7993 cc', '216 cc', '796 cc',\n",
       "       '1120 cc', '1994 cc', '1298 cc', '1397 cc', '2489 cc', '1353 cc',\n",
       "       '1500 cc', '2000 cc', '2999 cc', '1395 cc', '2967 cc', '4951 cc',\n",
       "       '2996 cc', '1988 cc', '2982 cc', '2894 cc', '4691 cc', '3902 cc',\n",
       "       '3900 cc', '6262 cc', '6498 cc', '6598 cc', '1172 cc', '2499 cc',\n",
       "       '1898 cc', '6417 cc', '3604 cc', '5700 cc', '2200 cc', '3799 cc',\n",
       "       '5935 cc', '1047 cc', '2157 cc', '6496 cc'], dtype=object)"
      ]
     },
     "execution_count": 20,
     "metadata": {},
     "output_type": "execute_result"
    }
   ],
   "source": [
    "df1.Displacement.unique()"
   ]
  },
  {
   "cell_type": "code",
   "execution_count": 21,
   "id": "58c5d0cb",
   "metadata": {},
   "outputs": [
    {
     "data": {
      "text/plain": [
       "130"
      ]
     },
     "execution_count": 21,
     "metadata": {},
     "output_type": "execute_result"
    }
   ],
   "source": [
    "len(df1.Displacement.unique())"
   ]
  },
  {
   "cell_type": "code",
   "execution_count": 22,
   "id": "fb5758b8",
   "metadata": {},
   "outputs": [
    {
     "name": "stderr",
     "output_type": "stream",
     "text": [
      "C:\\Users\\lance\\anaconda3\\lib\\site-packages\\seaborn\\_decorators.py:36: FutureWarning: Pass the following variables as keyword args: x, y. From version 0.12, the only valid positional argument will be `data`, and passing other arguments without an explicit keyword will result in an error or misinterpretation.\n",
      "  warnings.warn(\n"
     ]
    },
    {
     "data": {
      "text/plain": [
       "<AxesSubplot:>"
      ]
     },
     "execution_count": 22,
     "metadata": {},
     "output_type": "execute_result"
    },
    {
     "data": {
      "image/png": "[encoded data removed]",
      "text/plain": [
       "<Figure size 1080x1440 with 1 Axes>"
      ]
     },
     "metadata": {
      "needs_background": "light"
     },
     "output_type": "display_data"
    }
   ],
   "source": [
    "plt.figure(figsize=(15,20))\n",
    "sns.barplot(df1.Displacement.index,df1.Displacement.values)"
   ]
  },
  {
   "cell_type": "code",
   "execution_count": 23,
   "id": "59da8f54",
   "metadata": {},
   "outputs": [
    {
     "data": {
      "text/plain": [
       "array([nan, '110 km/full charge', '213 km/full charge',\n",
       "       '340 km/full charge', '312 km/full charge', '300 km/full charge',\n",
       "       '11.68 km/full charge', '39.53 km/full charge',\n",
       "       '462 km/full charge'], dtype=object)"
      ]
     },
     "execution_count": 23,
     "metadata": {},
     "output_type": "execute_result"
    }
   ],
   "source": [
    "df1.Electric_Range.unique()"
   ]
  },
  {
   "cell_type": "code",
   "execution_count": 24,
   "id": "ccecb7a4",
   "metadata": {},
   "outputs": [
    {
     "data": {
      "text/plain": [
       "110 km/full charge      5\n",
       "213 km/full charge      3\n",
       "340 km/full charge      2\n",
       "312 km/full charge      2\n",
       "11.68 km/full charge    2\n",
       "300 km/full charge      1\n",
       "39.53 km/full charge    1\n",
       "462 km/full charge      1\n",
       "Name: Electric_Range, dtype: int64"
      ]
     },
     "execution_count": 24,
     "metadata": {},
     "output_type": "execute_result"
    }
   ],
   "source": [
    "df1.Electric_Range.value_counts()"
   ]
  },
  {
   "cell_type": "code",
   "execution_count": 25,
   "id": "d6c3b924",
   "metadata": {},
   "outputs": [
    {
     "data": {
      "text/plain": [
       "1197 cc    106\n",
       "1498 cc     84\n",
       "1248 cc     62\n",
       "1198 cc     58\n",
       "1497 cc     56\n",
       "          ... \n",
       "5950 cc      1\n",
       "5198 cc      1\n",
       "4497 cc      1\n",
       "6750 cc      1\n",
       "6496 cc      1\n",
       "Name: Displacement, Length: 129, dtype: int64"
      ]
     },
     "execution_count": 25,
     "metadata": {},
     "output_type": "execute_result"
    }
   ],
   "source": [
    "df1.Displacement.value_counts()\n"
   ]
  },
  {
   "cell_type": "code",
   "execution_count": 30,
   "id": "b786e725",
   "metadata": {},
   "outputs": [
    {
     "data": {
      "text/plain": [
       "In-line    1068\n",
       "V           176\n",
       "W             6\n",
       "Flat          4\n",
       "Name: Cylinder_Configuration, dtype: int64"
      ]
     },
     "execution_count": 30,
     "metadata": {},
     "output_type": "execute_result"
    }
   ],
   "source": [
    "df1['Cylinder_Configuration'].value_counts()"
   ]
  },
  {
   "cell_type": "code",
   "execution_count": 31,
   "id": "b6f695b5",
   "metadata": {},
   "outputs": [
    {
     "data": {
      "text/plain": [
       "Revotron 1.2 L, BS6 Engine                                                                                                                           6\n",
       "CRDi                                                                                                                                                 5\n",
       "1.2 L Revotron (BS VI)                                                                                                                               5\n",
       "1.5L Turbocharged Revotorq (BS VI)                                                                                                                   5\n",
       "M1 Category                                                                                                                                          3\n",
       "D180                                                                                                                                                 2\n",
       "P 250                                                                                                                                                2\n",
       "9G-TRONIC                                                                                                                                            2\n",
       "2.0 Diesel                                                                                                                                           2\n",
       "Roller cam follower, continuous intake and exhaust camshaft adjustment, hydraulic valve-play compensation / 2/2 inlet/exhaust valves per cylinder    1\n",
       "Biturbo engine                                                                                                                                       1\n",
       "Name: Engine_Type, dtype: int64"
      ]
     },
     "execution_count": 31,
     "metadata": {},
     "output_type": "execute_result"
    }
   ],
   "source": [
    "df1.Engine_Type.value_counts()"
   ]
  },
  {
   "cell_type": "code",
   "execution_count": 32,
   "id": "95e4cc0c",
   "metadata": {},
   "outputs": [
    {
     "data": {
      "text/plain": [
       "Rs. 9,99,900     14\n",
       "Rs. 6,87,175      8\n",
       "Rs. 7,94,000      7\n",
       "Rs. 7,42,033      5\n",
       "Rs. 9,99,990      4\n",
       "                 ..\n",
       "Rs. 24,99,000     1\n",
       "Rs. 21,96,000     1\n",
       "Rs. 16,45,000     1\n",
       "Rs. 18,06,000     1\n",
       "Rs. 30,70,150     1\n",
       "Name: Ex-Showroom_Price, Length: 1162, dtype: int64"
      ]
     },
     "execution_count": 32,
     "metadata": {},
     "output_type": "execute_result"
    }
   ],
   "source": [
    "Ex_Showroom_Price=df1['Ex-Showroom_Price'].value_counts()\n",
    "Ex_Showroom_Price"
   ]
  },
  {
   "cell_type": "code",
   "execution_count": 33,
   "id": "f51dbdeb",
   "metadata": {},
   "outputs": [
    {
     "name": "stderr",
     "output_type": "stream",
     "text": [
      "C:\\Users\\lance\\anaconda3\\lib\\site-packages\\seaborn\\_decorators.py:36: FutureWarning: Pass the following variables as keyword args: x, y. From version 0.12, the only valid positional argument will be `data`, and passing other arguments without an explicit keyword will result in an error or misinterpretation.\n",
      "  warnings.warn(\n"
     ]
    },
    {
     "data": {
      "text/plain": [
       "<AxesSubplot:>"
      ]
     },
     "execution_count": 33,
     "metadata": {},
     "output_type": "execute_result"
    },
    {
     "data": {
      "image/png": "[encoded data removed]",
      "text/plain": [
       "<Figure size 432x288 with 1 Axes>"
      ]
     },
     "metadata": {
      "needs_background": "light"
     },
     "output_type": "display_data"
    }
   ],
   "source": [
    "sns.barplot(Ex_Showroom_Price.index,Ex_Showroom_Price.values)"
   ]
  },
  {
   "cell_type": "code",
   "execution_count": 34,
   "id": "49f8578f",
   "metadata": {},
   "outputs": [
    {
     "data": {
      "text/plain": [
       "Petrol          649\n",
       "Diesel          567\n",
       "CNG              16\n",
       "Hybrid           15\n",
       "Electric         14\n",
       "CNG + Petrol      6\n",
       "Name: Fuel_Type, dtype: int64"
      ]
     },
     "execution_count": 34,
     "metadata": {},
     "output_type": "execute_result"
    }
   ],
   "source": [
    "Fuel_type=df1.Fuel_Type.value_counts()\n",
    "Fuel_type"
   ]
  },
  {
   "cell_type": "code",
   "execution_count": 35,
   "id": "1d1e1d7c",
   "metadata": {},
   "outputs": [
    {
     "name": "stderr",
     "output_type": "stream",
     "text": [
      "C:\\Users\\lance\\anaconda3\\lib\\site-packages\\seaborn\\_decorators.py:36: FutureWarning: Pass the following variables as keyword args: x, y. From version 0.12, the only valid positional argument will be `data`, and passing other arguments without an explicit keyword will result in an error or misinterpretation.\n",
      "  warnings.warn(\n"
     ]
    },
    {
     "data": {
      "text/plain": [
       "<AxesSubplot:>"
      ]
     },
     "execution_count": 35,
     "metadata": {},
     "output_type": "execute_result"
    },
    {
     "data": {
      "image/png": "[encoded data removed]",
      "text/plain": [
       "<Figure size 432x288 with 1 Axes>"
      ]
     },
     "metadata": {
      "needs_background": "light"
     },
     "output_type": "display_data"
    }
   ],
   "source": [
    "sns.barplot(Fuel_type.index, Fuel_type.values)"
   ]
  },
  {
   "cell_type": "code",
   "execution_count": 36,
   "id": "52bd8e7d",
   "metadata": {},
   "outputs": [
    {
     "data": {
      "text/plain": [
       "BS IV     870\n",
       "BS 6      358\n",
       "BS VI      19\n",
       "BS III      9\n",
       "Name: Emission_Norm, dtype: int64"
      ]
     },
     "execution_count": 36,
     "metadata": {},
     "output_type": "execute_result"
    }
   ],
   "source": [
    "Emission_Norm=df.Emission_Norm.value_counts()\n",
    "Emission_Norm"
   ]
  },
  {
   "cell_type": "code",
   "execution_count": 37,
   "id": "72031f24",
   "metadata": {},
   "outputs": [
    {
     "name": "stderr",
     "output_type": "stream",
     "text": [
      "C:\\Users\\lance\\anaconda3\\lib\\site-packages\\seaborn\\_decorators.py:36: FutureWarning: Pass the following variables as keyword args: x, y. From version 0.12, the only valid positional argument will be `data`, and passing other arguments without an explicit keyword will result in an error or misinterpretation.\n",
      "  warnings.warn(\n"
     ]
    },
    {
     "data": {
      "text/plain": [
       "<AxesSubplot:>"
      ]
     },
     "execution_count": 37,
     "metadata": {},
     "output_type": "execute_result"
    },
    {
     "data": {
      "image/png": "[encoded data removed]",
      "text/plain": [
       "<Figure size 432x288 with 1 Axes>"
      ]
     },
     "metadata": {
      "needs_background": "light"
     },
     "output_type": "display_data"
    }
   ],
   "source": [
    "sns.barplot(Emission_Norm.index,Emission_Norm.values)"
   ]
  },
  {
   "cell_type": "code",
   "execution_count": 38,
   "id": "4151d63c",
   "metadata": {},
   "outputs": [
    {
     "data": {
      "text/plain": [
       "Injection    1255\n",
       "PGM - Fi        4\n",
       "Name: Fuel_System, dtype: int64"
      ]
     },
     "execution_count": 38,
     "metadata": {},
     "output_type": "execute_result"
    }
   ],
   "source": [
    "df1.Fuel_System.value_counts()"
   ]
  },
  {
   "cell_type": "code",
   "execution_count": 39,
   "id": "faf66c25",
   "metadata": {},
   "outputs": [
    {
     "data": {
      "text/html": [
       "<div>\n",
       "<style scoped>\n",
       "    .dataframe tbody tr th:only-of-type {\n",
       "        vertical-align: middle;\n",
       "    }\n",
       "\n",
       "    .dataframe tbody tr th {\n",
       "        vertical-align: top;\n",
       "    }\n",
       "\n",
       "    .dataframe thead th {\n",
       "        text-align: right;\n",
       "    }\n",
       "</style>\n",
       "<table border=\"1\" class=\"dataframe\">\n",
       "  <thead>\n",
       "    <tr style=\"text-align: right;\">\n",
       "      <th></th>\n",
       "      <th>Make</th>\n",
       "      <th>Model</th>\n",
       "      <th>Variant</th>\n",
       "      <th>Ex-Showroom_Price</th>\n",
       "      <th>Displacement</th>\n",
       "      <th>Cylinders</th>\n",
       "      <th>Valves_Per_Cylinder</th>\n",
       "      <th>Drivetrain</th>\n",
       "      <th>Cylinder_Configuration</th>\n",
       "      <th>Emission_Norm</th>\n",
       "      <th>...</th>\n",
       "      <th>Fuel_System</th>\n",
       "      <th>Fuel_Tank_Capacity</th>\n",
       "      <th>Fuel_Type</th>\n",
       "      <th>Engine_Type</th>\n",
       "      <th>Battery</th>\n",
       "      <th>Electric_Range</th>\n",
       "      <th>City_Mileage</th>\n",
       "      <th>Highway_Mileage</th>\n",
       "      <th>ARAI_Certified_Mileage</th>\n",
       "      <th>ARAI_Certified_Mileage_for_CNG</th>\n",
       "    </tr>\n",
       "  </thead>\n",
       "  <tbody>\n",
       "    <tr>\n",
       "      <th>0</th>\n",
       "      <td>Tata</td>\n",
       "      <td>Nano Genx</td>\n",
       "      <td>Xt</td>\n",
       "      <td>Rs. 2,92,667</td>\n",
       "      <td>624 cc</td>\n",
       "      <td>2.0</td>\n",
       "      <td>2.0</td>\n",
       "      <td>RWD (Rear Wheel Drive)</td>\n",
       "      <td>In-line</td>\n",
       "      <td>BS IV</td>\n",
       "      <td>...</td>\n",
       "      <td>Injection</td>\n",
       "      <td>24 litres</td>\n",
       "      <td>Petrol</td>\n",
       "      <td>NaN</td>\n",
       "      <td>NaN</td>\n",
       "      <td>NaN</td>\n",
       "      <td>?23.6 km/litre</td>\n",
       "      <td>NaN</td>\n",
       "      <td>23.6 km/litre</td>\n",
       "      <td>NaN</td>\n",
       "    </tr>\n",
       "    <tr>\n",
       "      <th>1</th>\n",
       "      <td>Tata</td>\n",
       "      <td>Nano Genx</td>\n",
       "      <td>Xe</td>\n",
       "      <td>Rs. 2,36,447</td>\n",
       "      <td>624 cc</td>\n",
       "      <td>2.0</td>\n",
       "      <td>2.0</td>\n",
       "      <td>RWD (Rear Wheel Drive)</td>\n",
       "      <td>In-line</td>\n",
       "      <td>BS IV</td>\n",
       "      <td>...</td>\n",
       "      <td>Injection</td>\n",
       "      <td>24 litres</td>\n",
       "      <td>Petrol</td>\n",
       "      <td>NaN</td>\n",
       "      <td>NaN</td>\n",
       "      <td>NaN</td>\n",
       "      <td>?23.6 km/litre</td>\n",
       "      <td>NaN</td>\n",
       "      <td>23.6 km/litre</td>\n",
       "      <td>NaN</td>\n",
       "    </tr>\n",
       "    <tr>\n",
       "      <th>3</th>\n",
       "      <td>Tata</td>\n",
       "      <td>Nano Genx</td>\n",
       "      <td>Xta</td>\n",
       "      <td>Rs. 3,34,768</td>\n",
       "      <td>624 cc</td>\n",
       "      <td>2.0</td>\n",
       "      <td>2.0</td>\n",
       "      <td>RWD (Rear Wheel Drive)</td>\n",
       "      <td>In-line</td>\n",
       "      <td>BS IV</td>\n",
       "      <td>...</td>\n",
       "      <td>Injection</td>\n",
       "      <td>24 litres</td>\n",
       "      <td>Petrol</td>\n",
       "      <td>NaN</td>\n",
       "      <td>NaN</td>\n",
       "      <td>NaN</td>\n",
       "      <td>?23.6 km/litre</td>\n",
       "      <td>NaN</td>\n",
       "      <td>21.9 km/litre</td>\n",
       "      <td>NaN</td>\n",
       "    </tr>\n",
       "    <tr>\n",
       "      <th>4</th>\n",
       "      <td>Tata</td>\n",
       "      <td>Nano Genx</td>\n",
       "      <td>Xm</td>\n",
       "      <td>Rs. 2,72,223</td>\n",
       "      <td>624 cc</td>\n",
       "      <td>2.0</td>\n",
       "      <td>2.0</td>\n",
       "      <td>RWD (Rear Wheel Drive)</td>\n",
       "      <td>In-line</td>\n",
       "      <td>BS IV</td>\n",
       "      <td>...</td>\n",
       "      <td>Injection</td>\n",
       "      <td>24 litres</td>\n",
       "      <td>Petrol</td>\n",
       "      <td>NaN</td>\n",
       "      <td>NaN</td>\n",
       "      <td>NaN</td>\n",
       "      <td>?23.6 km/litre</td>\n",
       "      <td>NaN</td>\n",
       "      <td>23.6 km/litre</td>\n",
       "      <td>NaN</td>\n",
       "    </tr>\n",
       "    <tr>\n",
       "      <th>5</th>\n",
       "      <td>Tata</td>\n",
       "      <td>Nano Genx</td>\n",
       "      <td>Xma</td>\n",
       "      <td>Rs. 3,14,815</td>\n",
       "      <td>624 cc</td>\n",
       "      <td>2.0</td>\n",
       "      <td>2.0</td>\n",
       "      <td>RWD (Rear Wheel Drive)</td>\n",
       "      <td>In-line</td>\n",
       "      <td>BS IV</td>\n",
       "      <td>...</td>\n",
       "      <td>Injection</td>\n",
       "      <td>24 litres</td>\n",
       "      <td>Petrol</td>\n",
       "      <td>NaN</td>\n",
       "      <td>NaN</td>\n",
       "      <td>NaN</td>\n",
       "      <td>?23.6 km/litre</td>\n",
       "      <td>NaN</td>\n",
       "      <td>21.9 km/litre</td>\n",
       "      <td>NaN</td>\n",
       "    </tr>\n",
       "    <tr>\n",
       "      <th>...</th>\n",
       "      <td>...</td>\n",
       "      <td>...</td>\n",
       "      <td>...</td>\n",
       "      <td>...</td>\n",
       "      <td>...</td>\n",
       "      <td>...</td>\n",
       "      <td>...</td>\n",
       "      <td>...</td>\n",
       "      <td>...</td>\n",
       "      <td>...</td>\n",
       "      <td>...</td>\n",
       "      <td>...</td>\n",
       "      <td>...</td>\n",
       "      <td>...</td>\n",
       "      <td>...</td>\n",
       "      <td>...</td>\n",
       "      <td>...</td>\n",
       "      <td>...</td>\n",
       "      <td>...</td>\n",
       "      <td>...</td>\n",
       "      <td>...</td>\n",
       "    </tr>\n",
       "    <tr>\n",
       "      <th>1253</th>\n",
       "      <td>Jaguar</td>\n",
       "      <td>Xe</td>\n",
       "      <td>S Petrol</td>\n",
       "      <td>Rs. 44,98,000</td>\n",
       "      <td>1997 cc</td>\n",
       "      <td>4.0</td>\n",
       "      <td>4.0</td>\n",
       "      <td>RWD (Rear Wheel Drive)</td>\n",
       "      <td>In-line</td>\n",
       "      <td>BS 6</td>\n",
       "      <td>...</td>\n",
       "      <td>Injection</td>\n",
       "      <td>61 litres</td>\n",
       "      <td>Petrol</td>\n",
       "      <td>NaN</td>\n",
       "      <td>NaN</td>\n",
       "      <td>NaN</td>\n",
       "      <td>NaN</td>\n",
       "      <td>NaN</td>\n",
       "      <td>11 km/litre</td>\n",
       "      <td>NaN</td>\n",
       "    </tr>\n",
       "    <tr>\n",
       "      <th>1256</th>\n",
       "      <td>Jaguar</td>\n",
       "      <td>Xe</td>\n",
       "      <td>Se Petrol</td>\n",
       "      <td>Rs. 46,33,000</td>\n",
       "      <td>1997 cc</td>\n",
       "      <td>4.0</td>\n",
       "      <td>4.0</td>\n",
       "      <td>RWD (Rear Wheel Drive)</td>\n",
       "      <td>In-line</td>\n",
       "      <td>BS 6</td>\n",
       "      <td>...</td>\n",
       "      <td>Injection</td>\n",
       "      <td>61 litres</td>\n",
       "      <td>Petrol</td>\n",
       "      <td>NaN</td>\n",
       "      <td>NaN</td>\n",
       "      <td>NaN</td>\n",
       "      <td>NaN</td>\n",
       "      <td>NaN</td>\n",
       "      <td>11 km/litre</td>\n",
       "      <td>NaN</td>\n",
       "    </tr>\n",
       "    <tr>\n",
       "      <th>1257</th>\n",
       "      <td>Maserati</td>\n",
       "      <td>Granturismo</td>\n",
       "      <td>Sport</td>\n",
       "      <td>Rs. 1,72,29,579</td>\n",
       "      <td>4691 cc</td>\n",
       "      <td>8.0</td>\n",
       "      <td>4.0</td>\n",
       "      <td>RWD (Rear Wheel Drive)</td>\n",
       "      <td>V</td>\n",
       "      <td>BS IV</td>\n",
       "      <td>...</td>\n",
       "      <td>Injection</td>\n",
       "      <td>86 litres</td>\n",
       "      <td>Petrol</td>\n",
       "      <td>NaN</td>\n",
       "      <td>NaN</td>\n",
       "      <td>NaN</td>\n",
       "      <td>4.6 km/litre</td>\n",
       "      <td>5 km/litre</td>\n",
       "      <td>10 km/litre</td>\n",
       "      <td>NaN</td>\n",
       "    </tr>\n",
       "    <tr>\n",
       "      <th>1263</th>\n",
       "      <td>Bmw</td>\n",
       "      <td>X5</td>\n",
       "      <td>Xdrive40I M Sport</td>\n",
       "      <td>Rs. 82,90,000</td>\n",
       "      <td>2998 cc</td>\n",
       "      <td>6.0</td>\n",
       "      <td>4.0</td>\n",
       "      <td>AWD (All Wheel Drive)</td>\n",
       "      <td>In-line</td>\n",
       "      <td>BS IV</td>\n",
       "      <td>...</td>\n",
       "      <td>Injection</td>\n",
       "      <td>NaN</td>\n",
       "      <td>Petrol</td>\n",
       "      <td>NaN</td>\n",
       "      <td>NaN</td>\n",
       "      <td>NaN</td>\n",
       "      <td>NaN</td>\n",
       "      <td>NaN</td>\n",
       "      <td>11.24 km/litre</td>\n",
       "      <td>NaN</td>\n",
       "    </tr>\n",
       "    <tr>\n",
       "      <th>1266</th>\n",
       "      <td>Ferrari</td>\n",
       "      <td>812 Superfast</td>\n",
       "      <td>Superfast</td>\n",
       "      <td>Rs. 5,20,00,000</td>\n",
       "      <td>6496 cc</td>\n",
       "      <td>12.0</td>\n",
       "      <td>NaN</td>\n",
       "      <td>AWD (All Wheel Drive)</td>\n",
       "      <td>V</td>\n",
       "      <td>BS IV</td>\n",
       "      <td>...</td>\n",
       "      <td>Injection</td>\n",
       "      <td>92 litres</td>\n",
       "      <td>Petrol</td>\n",
       "      <td>NaN</td>\n",
       "      <td>NaN</td>\n",
       "      <td>NaN</td>\n",
       "      <td>NaN</td>\n",
       "      <td>NaN</td>\n",
       "      <td>14.9 km/litre</td>\n",
       "      <td>NaN</td>\n",
       "    </tr>\n",
       "  </tbody>\n",
       "</table>\n",
       "<p>649 rows × 21 columns</p>\n",
       "</div>"
      ],
      "text/plain": [
       "          Make          Model            Variant Ex-Showroom_Price  \\\n",
       "0         Tata      Nano Genx                 Xt      Rs. 2,92,667   \n",
       "1         Tata      Nano Genx                 Xe      Rs. 2,36,447   \n",
       "3         Tata      Nano Genx                Xta      Rs. 3,34,768   \n",
       "4         Tata      Nano Genx                 Xm      Rs. 2,72,223   \n",
       "5         Tata      Nano Genx                Xma      Rs. 3,14,815   \n",
       "...        ...            ...                ...               ...   \n",
       "1253    Jaguar             Xe           S Petrol     Rs. 44,98,000   \n",
       "1256    Jaguar             Xe          Se Petrol     Rs. 46,33,000   \n",
       "1257  Maserati    Granturismo              Sport   Rs. 1,72,29,579   \n",
       "1263       Bmw             X5  Xdrive40I M Sport     Rs. 82,90,000   \n",
       "1266   Ferrari  812 Superfast          Superfast   Rs. 5,20,00,000   \n",
       "\n",
       "     Displacement  Cylinders  Valves_Per_Cylinder              Drivetrain  \\\n",
       "0          624 cc        2.0                  2.0  RWD (Rear Wheel Drive)   \n",
       "1          624 cc        2.0                  2.0  RWD (Rear Wheel Drive)   \n",
       "3          624 cc        2.0                  2.0  RWD (Rear Wheel Drive)   \n",
       "4          624 cc        2.0                  2.0  RWD (Rear Wheel Drive)   \n",
       "5          624 cc        2.0                  2.0  RWD (Rear Wheel Drive)   \n",
       "...           ...        ...                  ...                     ...   \n",
       "1253      1997 cc        4.0                  4.0  RWD (Rear Wheel Drive)   \n",
       "1256      1997 cc        4.0                  4.0  RWD (Rear Wheel Drive)   \n",
       "1257      4691 cc        8.0                  4.0  RWD (Rear Wheel Drive)   \n",
       "1263      2998 cc        6.0                  4.0   AWD (All Wheel Drive)   \n",
       "1266      6496 cc       12.0                  NaN   AWD (All Wheel Drive)   \n",
       "\n",
       "     Cylinder_Configuration Emission_Norm  ... Fuel_System Fuel_Tank_Capacity  \\\n",
       "0                   In-line         BS IV  ...   Injection          24 litres   \n",
       "1                   In-line         BS IV  ...   Injection          24 litres   \n",
       "3                   In-line         BS IV  ...   Injection          24 litres   \n",
       "4                   In-line         BS IV  ...   Injection          24 litres   \n",
       "5                   In-line         BS IV  ...   Injection          24 litres   \n",
       "...                     ...           ...  ...         ...                ...   \n",
       "1253                In-line          BS 6  ...   Injection          61 litres   \n",
       "1256                In-line          BS 6  ...   Injection          61 litres   \n",
       "1257                      V         BS IV  ...   Injection          86 litres   \n",
       "1263                In-line         BS IV  ...   Injection                NaN   \n",
       "1266                      V         BS IV  ...   Injection          92 litres   \n",
       "\n",
       "     Fuel_Type Engine_Type Battery Electric_Range    City_Mileage  \\\n",
       "0       Petrol         NaN     NaN            NaN  ?23.6 km/litre   \n",
       "1       Petrol         NaN     NaN            NaN  ?23.6 km/litre   \n",
       "3       Petrol         NaN     NaN            NaN  ?23.6 km/litre   \n",
       "4       Petrol         NaN     NaN            NaN  ?23.6 km/litre   \n",
       "5       Petrol         NaN     NaN            NaN  ?23.6 km/litre   \n",
       "...        ...         ...     ...            ...             ...   \n",
       "1253    Petrol         NaN     NaN            NaN             NaN   \n",
       "1256    Petrol         NaN     NaN            NaN             NaN   \n",
       "1257    Petrol         NaN     NaN            NaN    4.6 km/litre   \n",
       "1263    Petrol         NaN     NaN            NaN             NaN   \n",
       "1266    Petrol         NaN     NaN            NaN             NaN   \n",
       "\n",
       "     Highway_Mileage ARAI_Certified_Mileage ARAI_Certified_Mileage_for_CNG  \n",
       "0                NaN          23.6 km/litre                            NaN  \n",
       "1                NaN          23.6 km/litre                            NaN  \n",
       "3                NaN          21.9 km/litre                            NaN  \n",
       "4                NaN          23.6 km/litre                            NaN  \n",
       "5                NaN          21.9 km/litre                            NaN  \n",
       "...              ...                    ...                            ...  \n",
       "1253             NaN            11 km/litre                            NaN  \n",
       "1256             NaN            11 km/litre                            NaN  \n",
       "1257      5 km/litre            10 km/litre                            NaN  \n",
       "1263             NaN         11.24 km/litre                            NaN  \n",
       "1266             NaN          14.9 km/litre                            NaN  \n",
       "\n",
       "[649 rows x 21 columns]"
      ]
     },
     "execution_count": 39,
     "metadata": {},
     "output_type": "execute_result"
    }
   ],
   "source": [
    "Petrol=df1[df1.Fuel_Type=='Petrol']\n",
    "Petrol"
   ]
  },
  {
   "cell_type": "code",
   "execution_count": null,
   "id": "d46824df",
   "metadata": {},
   "outputs": [],
   "source": [
    "df.loc[:,df.dtypes==np.object]"
   ]
  },
  {
   "cell_type": "code",
   "execution_count": 40,
   "id": "fca5e6f1",
   "metadata": {},
   "outputs": [
    {
     "data": {
      "text/plain": [
       "Make                               48\n",
       "Model                               0\n",
       "Variant                             0\n",
       "Ex-Showroom_Price                   0\n",
       "Displacement                        1\n",
       "Cylinders                          17\n",
       "Valves_Per_Cylinder                39\n",
       "Drivetrain                          4\n",
       "Cylinder_Configuration              4\n",
       "Emission_Norm                       6\n",
       "Engine_Location                    20\n",
       "Fuel_System                         4\n",
       "Fuel_Tank_Capacity                 19\n",
       "Fuel_Type                           0\n",
       "Engine_Type                       634\n",
       "Battery                           649\n",
       "Electric_Range                    647\n",
       "City_Mileage                      298\n",
       "Highway_Mileage                   413\n",
       "ARAI_Certified_Mileage             35\n",
       "ARAI_Certified_Mileage_for_CNG    644\n",
       "dtype: int64"
      ]
     },
     "execution_count": 40,
     "metadata": {},
     "output_type": "execute_result"
    }
   ],
   "source": [
    "Petrol.isnull().sum()"
   ]
  },
  {
   "cell_type": "code",
   "execution_count": 1,
   "id": "3a87cbd8",
   "metadata": {},
   "outputs": [
    {
     "ename": "NameError",
     "evalue": "name 'Petrol' is not defined",
     "output_type": "error",
     "traceback": [
      "\u001b[1;31m---------------------------------------------------------------------------\u001b[0m",
      "\u001b[1;31mNameError\u001b[0m                                 Traceback (most recent call last)",
      "\u001b[1;32m~\\AppData\\Local\\Temp/ipykernel_31776/2746639254.py\u001b[0m in \u001b[0;36m<module>\u001b[1;34m\u001b[0m\n\u001b[1;32m----> 1\u001b[1;33m \u001b[0mPetrol\u001b[0m\u001b[1;33m.\u001b[0m\u001b[0mfillna\u001b[0m\u001b[1;33m(\u001b[0m\u001b[0mPetrol\u001b[0m\u001b[1;33m.\u001b[0m\u001b[0mmedian\u001b[0m\u001b[1;33m(\u001b[0m\u001b[1;33m)\u001b[0m\u001b[1;33m,\u001b[0m\u001b[0minplace\u001b[0m\u001b[1;33m=\u001b[0m\u001b[1;32mTrue\u001b[0m\u001b[1;33m)\u001b[0m\u001b[1;33m\u001b[0m\u001b[1;33m\u001b[0m\u001b[0m\n\u001b[0m",
      "\u001b[1;31mNameError\u001b[0m: name 'Petrol' is not defined"
     ]
    }
   ],
   "source": [
    "Petrol.fillna(Petrol.median(),inplace=True)"
   ]
  },
  {
   "cell_type": "code",
   "execution_count": null,
   "id": "c35be40f",
   "metadata": {},
   "outputs": [],
   "source": [
    "Petrol.isnull().sum()"
   ]
  },
  {
   "cell_type": "code",
   "execution_count": null,
   "id": "a7b25f9c",
   "metadata": {},
   "outputs": [],
   "source": [
    "Petrol.Displacement.value_counts()"
   ]
  },
  {
   "cell_type": "code",
   "execution_count": null,
   "id": "74a32c8f",
   "metadata": {},
   "outputs": [],
   "source": [
    "plt.figure(figsize=(15,20))\n",
    "sns.barplot(Petrol.Displacement.index,Petrol.Displacement.values)"
   ]
  },
  {
   "cell_type": "code",
   "execution_count": null,
   "id": "ffeedc80",
   "metadata": {},
   "outputs": [],
   "source": []
  },
  {
   "cell_type": "code",
   "execution_count": null,
   "id": "70d7d8c2",
   "metadata": {},
   "outputs": [],
   "source": [
    "\n",
    "import plotly.express as px\n",
    "\n",
    "fig = px.bar(Petrol, x='Ex-Showroom_Price', y='City_Mileage')\n",
    "fig.show()"
   ]
  },
  {
   "cell_type": "code",
   "execution_count": null,
   "id": "b67f5587",
   "metadata": {},
   "outputs": [],
   "source": [
    "sns.barplot(Petrol,x='Ex-Showroom_Price',y='City_Mileage')"
   ]
  },
  {
   "cell_type": "code",
   "execution_count": null,
   "id": "4e61afd6",
   "metadata": {},
   "outputs": [],
   "source": [
    "Petrol_Mileage_City=Petrol.City_Mileage.value_counts()\n",
    "Petrol_Mileage_City"
   ]
  },
  {
   "cell_type": "code",
   "execution_count": null,
   "id": "9bc7aede",
   "metadata": {},
   "outputs": [],
   "source": [
    "sns.barplot(Petrol_Mileage_City.index,Petrol_Mileage_City.values)"
   ]
  },
  {
   "cell_type": "code",
   "execution_count": null,
   "id": "8be0e8b9",
   "metadata": {},
   "outputs": [],
   "source": [
    "import plotly.express as px\n",
    "\n",
    "fig = px.bar(Petrol, x='Ex-Showroom_Price', y='Cylinders')\n",
    "fig.show()"
   ]
  },
  {
   "cell_type": "code",
   "execution_count": null,
   "id": "e649c2ab",
   "metadata": {},
   "outputs": [],
   "source": [
    "Petrol_Highway_Mileage=Petrol.Highway_Mileage.value_counts()\n",
    "Petrol_Highway_Mileage"
   ]
  },
  {
   "cell_type": "code",
   "execution_count": null,
   "id": "3e9258a1",
   "metadata": {},
   "outputs": [],
   "source": [
    "Diesel_Highway_Mileage=Diesel.Highway_Mileage.value_counts()\n",
    "Diesel_Highway_Mileage"
   ]
  },
  {
   "cell_type": "code",
   "execution_count": null,
   "id": "3f312637",
   "metadata": {},
   "outputs": [],
   "source": [
    "Diesel=df[df.Fuel_Type=='Diesel']\n",
    "Diesel"
   ]
  },
  {
   "cell_type": "code",
   "execution_count": null,
   "id": "bdc67531",
   "metadata": {},
   "outputs": [],
   "source": [
    "import plotly.express as px\n",
    "\n",
    "fig = px.bar(Diesel, x='Ex-Showroom_Price', y='Cylinders')\n",
    "fig.show()"
   ]
  },
  {
   "cell_type": "code",
   "execution_count": null,
   "id": "7f676bfd",
   "metadata": {},
   "outputs": [],
   "source": [
    "Diesel_Mileage_City=Diesel.City_Mileage.value_counts()\n",
    "\n",
    "Diesel_Mileage_City"
   ]
  },
  {
   "cell_type": "code",
   "execution_count": null,
   "id": "c9feabc2",
   "metadata": {},
   "outputs": [],
   "source": [
    "sns.barplot(Diesel_Mileage_City.index,Diesel_Mileage_City.values)"
   ]
  },
  {
   "cell_type": "code",
   "execution_count": null,
   "id": "64c19c4c",
   "metadata": {},
   "outputs": [],
   "source": [
    "import plotly.express as px\n",
    "\n",
    "fig = px.bar(Diesel, x='Ex-Showroom_Price', y='City_Mileage')\n",
    "fig.show()"
   ]
  },
  {
   "cell_type": "code",
   "execution_count": null,
   "id": "e01441ff",
   "metadata": {},
   "outputs": [],
   "source": [
    "import plotly.express as px\n",
    "\n",
    "fig = px.bar(Diesel, x='Ex-Showroom_Price', y='Displacement')\n",
    "fig.show()"
   ]
  },
  {
   "cell_type": "code",
   "execution_count": null,
   "id": "f33b7163",
   "metadata": {},
   "outputs": [],
   "source": [
    "Electric=df[df['Fuel_Type']=='Electric']\n",
    "Electric"
   ]
  },
  {
   "cell_type": "code",
   "execution_count": null,
   "id": "39e3907b",
   "metadata": {},
   "outputs": [],
   "source": [
    "print(Electric.columns.tolist())"
   ]
  },
  {
   "cell_type": "code",
   "execution_count": null,
   "id": "330c383e",
   "metadata": {},
   "outputs": [],
   "source": [
    "Electric.Battery.value_counts()"
   ]
  },
  {
   "cell_type": "code",
   "execution_count": null,
   "id": "6279dee4",
   "metadata": {},
   "outputs": [],
   "source": [
    "import plotly.express as px\n",
    "\n",
    "fig = px.bar(Electric, x='Ex-Showroom_Price', y='Electric_Range')\n",
    "fig.show()"
   ]
  },
  {
   "cell_type": "code",
   "execution_count": null,
   "id": "3e405c43",
   "metadata": {},
   "outputs": [],
   "source": [
    "import plotly.express as px\n",
    "\n",
    "fig = px.bar(df, x='Model', y='Electric_Range')\n",
    "fig.show()"
   ]
  },
  {
   "cell_type": "code",
   "execution_count": null,
   "id": "910fd33c",
   "metadata": {},
   "outputs": [],
   "source": [
    "Petrol.is"
   ]
  },
  {
   "cell_type": "code",
   "execution_count": null,
   "id": "2a5785b4",
   "metadata": {},
   "outputs": [],
   "source": []
  }
 ],
 "metadata": {
  "kernelspec": {
   "display_name": "Python 3 (ipykernel)",
   "language": "python",
   "name": "python3"
  },
  "language_info": {
   "codemirror_mode": {
    "name": "ipython",
    "version": 3
   },
   "file_extension": ".py",
   "mimetype": "text/x-python",
   "name": "python",
   "nbconvert_exporter": "python",
   "pygments_lexer": "ipython3",
   "version": "3.8.5"
  }
 },
 "nbformat": 4,
 "nbformat_minor": 5
}
